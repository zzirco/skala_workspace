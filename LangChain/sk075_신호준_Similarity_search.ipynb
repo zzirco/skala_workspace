{
 "cells": [
  {
   "cell_type": "markdown",
   "id": "e9c25eca",
   "metadata": {
    "id": "e9c25eca"
   },
   "source": [
    "\n",
    "# ChromaDB 기반 임베딩, 라우팅, 유사도 검색\n",
    "\n",
    "\n",
    "- **의존성 설치**: chromadb, pypdf, openai, tqdm, langchain, python-dotenv, langchain-openai\n",
    "- **파일 로딩**: 업로드된 PDF / TXT에서 텍스트를 추출\n",
    "- **청크 분할**: RecursiveCharacterTextSplitter 사용\n",
    "- **임베딩**: Openai/text-embedding-3-large\n",
    "- **벡터DB**: 로컬 Chroma 퍼시스턴스(./chroma_db)\n",
    "- **라우팅**: 각 문서별 별도 컬렉션 생성, LLM 기반 Query Routing\n",
    "- **검색**: 쿼리 유사도 검색 + 결과 표 형태 출력\n",
    "\n"
   ]
  },
  {
   "cell_type": "markdown",
   "id": "rwh7JlSyO-zY",
   "metadata": {
    "id": "rwh7JlSyO-zY"
   },
   "source": [
    "# 의존성 설치"
   ]
  },
  {
   "cell_type": "code",
   "execution_count": 1,
   "id": "677147cd",
   "metadata": {
    "colab": {
     "base_uri": "https://localhost:8080/"
    },
    "executionInfo": {
     "elapsed": 8346,
     "status": "ok",
     "timestamp": 1759129511114,
     "user": {
      "displayName": "신호준",
      "userId": "12947399978548923122"
     },
     "user_tz": -540
    },
    "id": "677147cd",
    "outputId": "ab1de3e6-f196-43b9-dfe5-8ea85ec9f6bc"
   },
   "outputs": [
    {
     "name": "stdout",
     "output_type": "stream",
     "text": [
      "Note: you may need to restart the kernel to use updated packages.\n"
     ]
    },
    {
     "name": "stderr",
     "output_type": "stream",
     "text": [
      "\n",
      "[notice] A new release of pip is available: 24.0 -> 25.2\n",
      "[notice] To update, run: python.exe -m pip install --upgrade pip\n"
     ]
    }
   ],
   "source": [
    "%pip install -qU chromadb pypdf tqdm langchain openai python-dotenv langchain-openai"
   ]
  },
  {
   "cell_type": "markdown",
   "id": "NbwViZiWPOlw",
   "metadata": {
    "id": "NbwViZiWPOlw"
   },
   "source": [
    "# 환경설정\n",
    "- 임베딩 모델 정의\n",
    "- ChromaDB 경로 정의\n",
    "- 컬렉션 이름 정의"
   ]
  },
  {
   "cell_type": "code",
   "execution_count": 1,
   "id": "15a7b720",
   "metadata": {
    "executionInfo": {
     "elapsed": 67,
     "status": "ok",
     "timestamp": 1759130245906,
     "user": {
      "displayName": "신호준",
      "userId": "12947399978548923122"
     },
     "user_tz": -540
    },
    "id": "15a7b720"
   },
   "outputs": [
    {
     "name": "stderr",
     "output_type": "stream",
     "text": [
      "c:\\skala_workspace\\RAG\\venv\\Lib\\site-packages\\tqdm\\auto.py:21: TqdmWarning: IProgress not found. Please update jupyter and ipywidgets. See https://ipywidgets.readthedocs.io/en/stable/user_install.html\n",
      "  from .autonotebook import tqdm as notebook_tqdm\n"
     ]
    }
   ],
   "source": [
    "import os\n",
    "from pathlib import Path\n",
    "from tqdm import tqdm\n",
    "from pypdf import PdfReader\n",
    "import pandas as pd\n",
    "\n",
    "import chromadb\n",
    "from chromadb.utils import embedding_functions\n",
    "from langchain.text_splitter import RecursiveCharacterTextSplitter\n",
    "from langchain_openai import ChatOpenAI\n",
    "from dotenv import load_dotenv\n",
    "\n",
    "# Load environment (.env must contain OPENAI_API_KEY)\n",
    "load_dotenv()\n",
    "OPENAI_API_KEY = os.getenv(\"OPENAI_API_KEY\")\n",
    "if not OPENAI_API_KEY:\n",
    "    raise ValueError(\"OPENAI_API_KEY is missing in .env file\")\n",
    "\n",
    "# Embedding function (OpenAI)\n",
    "embedding_fn = embedding_functions.OpenAIEmbeddingFunction(\n",
    "    api_key=OPENAI_API_KEY,\n",
    "    model_name=\"text-embedding-3-large\"\n",
    ")\n",
    "\n",
    "# Chroma persistence dir\n",
    "PERSIST_DIR = \"./chroma_db_router\"\n",
    "\n",
    "# File mapping: each file -> one collection\n",
    "FILE_MAP = {\n",
    "    \"ai4science\": \"./IS-208 과학을 위한 AI(AI4Science) 연구의 패러다임을 바꾸다.pdf\",\n",
    "    \"spri_report\": \"./SPRi AI Brief_9월호_산업동향_0909_F.pdf\",\n",
    "    \"finance\": \"./finance-keywords.txt\",\n",
    "    \"nlp\": \"./nlp-keywords.txt\",\n",
    "}"
   ]
  },
  {
   "cell_type": "markdown",
   "id": "dcxB0qaHPd8c",
   "metadata": {
    "id": "dcxB0qaHPd8c"
   },
   "source": [
    "# 문서 로딩 & 텍스트 스플릿\n",
    "- RecursiveCharacterTextSplitter 사용"
   ]
  },
  {
   "cell_type": "code",
   "execution_count": 2,
   "id": "b0f5d4bc",
   "metadata": {
    "executionInfo": {
     "elapsed": 34,
     "status": "ok",
     "timestamp": 1759130247550,
     "user": {
      "displayName": "신호준",
      "userId": "12947399978548923122"
     },
     "user_tz": -540
    },
    "id": "b0f5d4bc"
   },
   "outputs": [],
   "source": [
    "def load_pdf(path: str):\n",
    "    reader = PdfReader(path)\n",
    "    for i, page in enumerate(reader.pages):\n",
    "        try:\n",
    "            text = page.extract_text() or \"\"\n",
    "        except:\n",
    "            text = \"\"\n",
    "        if text.strip():\n",
    "            yield text, {\"source\": path, \"page\": i+1}\n",
    "\n",
    "def load_txt(path: str):\n",
    "    with open(path, \"r\", encoding=\"utf-8\", errors=\"ignore\") as f:\n",
    "        text = f.read()\n",
    "    yield text, {\"source\": path, \"page\": -1}\n",
    "\n",
    "splitter = RecursiveCharacterTextSplitter(\n",
    "    chunk_size=900,\n",
    "    chunk_overlap=120,\n",
    "    separators=[\"\\n\\n\", \"\\n\", \" \", \"\"]\n",
    ")\n",
    "\n",
    "def chunk_text(text: str):\n",
    "    return splitter.split_text(text)"
   ]
  },
  {
   "cell_type": "markdown",
   "id": "MFGah7GXPriX",
   "metadata": {
    "id": "MFGah7GXPriX"
   },
   "source": [
    "# 개별 컬렉션(ai4science, spri_report, finance, nlp) 생성 및 적재"
   ]
  },
  {
   "cell_type": "code",
   "execution_count": 3,
   "id": "c992296b",
   "metadata": {
    "colab": {
     "base_uri": "https://localhost:8080/"
    },
    "executionInfo": {
     "elapsed": 9322,
     "status": "ok",
     "timestamp": 1759130258577,
     "user": {
      "displayName": "신호준",
      "userId": "12947399978548923122"
     },
     "user_tz": -540
    },
    "id": "c992296b",
    "outputId": "2707c69b-83b6-4344-a070-6dcef4c6f4f2"
   },
   "outputs": [
    {
     "name": "stdout",
     "output_type": "stream",
     "text": [
      "[INFO] Collection ai4science created with 80 chunks\n",
      "[INFO] Collection spri_report created with 70 chunks\n",
      "[INFO] Collection finance created with 4 chunks\n",
      "[INFO] Collection nlp created with 10 chunks\n"
     ]
    }
   ],
   "source": [
    "client = chromadb.PersistentClient(path=PERSIST_DIR)\n",
    "\n",
    "collections = {}\n",
    "\n",
    "for name, filepath in FILE_MAP.items():\n",
    "    path = Path(filepath)\n",
    "    if not path.exists():\n",
    "        print(f\"[WARN] Missing file: {filepath}\")\n",
    "        continue\n",
    "\n",
    "    # 새 컬렉션 (기존 있으면 삭제 후 생성)\n",
    "    try:\n",
    "        client.delete_collection(name)\n",
    "    except:\n",
    "        pass\n",
    "    collection = client.create_collection(name, embedding_function=embedding_fn)\n",
    "    collections[name] = collection\n",
    "\n",
    "    # 로드\n",
    "    if path.suffix.lower() == \".pdf\":\n",
    "        pairs = list(load_pdf(filepath))\n",
    "    else:\n",
    "        pairs = list(load_txt(filepath))\n",
    "\n",
    "    # 청크 분할 후 적재\n",
    "    docs, ids, metas = [], [], []\n",
    "    for doc_id, (text, meta) in enumerate(pairs, start=1):\n",
    "        chunks = chunk_text(text)\n",
    "        for idx, ch in enumerate(chunks):\n",
    "            docs.append(ch.strip())\n",
    "            ids.append(f\"{name}-{doc_id}-{idx}\")\n",
    "            clean_meta = {**meta, \"chunk\": idx+1}\n",
    "            for k, v in clean_meta.items():\n",
    "                if v is None: clean_meta[k] = \"N/A\"\n",
    "            metas.append(clean_meta)\n",
    "    collection.add(ids=ids, documents=docs, metadatas=metas)\n",
    "\n",
    "    print(f\"[INFO] Collection {name} created with {collection.count()} chunks\")"
   ]
  },
  {
   "cell_type": "markdown",
   "id": "rDAccYOZP2-H",
   "metadata": {
    "id": "rDAccYOZP2-H"
   },
   "source": [
    "# LLM 기반 Routing 설정"
   ]
  },
  {
   "cell_type": "code",
   "execution_count": 4,
   "id": "c7bb79be",
   "metadata": {
    "executionInfo": {
     "elapsed": 3,
     "status": "ok",
     "timestamp": 1759130270776,
     "user": {
      "displayName": "신호준",
      "userId": "12947399978548923122"
     },
     "user_tz": -540
    },
    "id": "c7bb79be"
   },
   "outputs": [],
   "source": [
    "llm_router = ChatOpenAI(model=\"gpt-4o-mini\", api_key=OPENAI_API_KEY)\n",
    "\n",
    "ROUTING_PROMPT = \"\"\"You are a router.\n",
    "Decide which knowledge base best matches the user's query.\n",
    "Available DBs:\n",
    "- ai4science: AI4Science 연구 보고서\n",
    "- spri_report: 산업동향 보고서\n",
    "- finance: 금융 키워드\n",
    "- nlp: NLP 키워드\n",
    "\n",
    "Answer ONLY with one word: ai4science, spri_report, finance, or nlp.\n",
    "\n",
    "Query: {query}\n",
    "\"\"\"\n",
    "\n",
    "def route_query(query: str) -> str:\n",
    "    resp = llm_router.invoke(ROUTING_PROMPT.format(query=query))\n",
    "    route = resp.content.strip().lower()\n",
    "    if route not in collections:\n",
    "        route = \"ai4science\"  # fallback\n",
    "    return route\n"
   ]
  },
  {
   "cell_type": "markdown",
   "id": "W1AdVn2PP9t_",
   "metadata": {
    "id": "W1AdVn2PP9t_"
   },
   "source": [
    "# 유사도 검색"
   ]
  },
  {
   "cell_type": "code",
   "execution_count": 5,
   "id": "4aa4afe5",
   "metadata": {
    "colab": {
     "base_uri": "https://localhost:8080/",
     "height": 364
    },
    "executionInfo": {
     "elapsed": 2022,
     "status": "ok",
     "timestamp": 1759129807508,
     "user": {
      "displayName": "신호준",
      "userId": "12947399978548923122"
     },
     "user_tz": -540
    },
    "id": "4aa4afe5",
    "outputId": "e842627d-4385-442a-af7c-3ad868e3e367"
   },
   "outputs": [
    {
     "data": {
      "text/html": [
       "<div>\n",
       "<style scoped>\n",
       "    .dataframe tbody tr th:only-of-type {\n",
       "        vertical-align: middle;\n",
       "    }\n",
       "\n",
       "    .dataframe tbody tr th {\n",
       "        vertical-align: top;\n",
       "    }\n",
       "\n",
       "    .dataframe thead th {\n",
       "        text-align: right;\n",
       "    }\n",
       "</style>\n",
       "<table border=\"1\" class=\"dataframe\">\n",
       "  <thead>\n",
       "    <tr style=\"text-align: right;\">\n",
       "      <th></th>\n",
       "      <th>rank</th>\n",
       "      <th>distance</th>\n",
       "      <th>snippet</th>\n",
       "      <th>db</th>\n",
       "      <th>source</th>\n",
       "      <th>page</th>\n",
       "      <th>chunk</th>\n",
       "    </tr>\n",
       "  </thead>\n",
       "  <tbody>\n",
       "    <tr>\n",
       "      <th>0</th>\n",
       "      <td>1</td>\n",
       "      <td>0.724383</td>\n",
       "      <td>S&amp;P 500\\n\\n정의: S&amp;P 500은 미국 주식 시장에 상장된 500개의 대형...</td>\n",
       "      <td>finance</td>\n",
       "      <td>finance-keywords.txt</td>\n",
       "      <td>-1</td>\n",
       "      <td>1</td>\n",
       "    </tr>\n",
       "    <tr>\n",
       "      <th>1</th>\n",
       "      <td>2</td>\n",
       "      <td>0.889912</td>\n",
       "      <td>Growth Stock\\n\\n정의: 성장주는 평균 이상의 높은 성장률을 보이는 기업...</td>\n",
       "      <td>finance</td>\n",
       "      <td>finance-keywords.txt</td>\n",
       "      <td>-1</td>\n",
       "      <td>3</td>\n",
       "    </tr>\n",
       "    <tr>\n",
       "      <th>2</th>\n",
       "      <td>3</td>\n",
       "      <td>0.895336</td>\n",
       "      <td>ESG (Environmental, Social, and Governance)\\n\\...</td>\n",
       "      <td>finance</td>\n",
       "      <td>finance-keywords.txt</td>\n",
       "      <td>-1</td>\n",
       "      <td>4</td>\n",
       "    </tr>\n",
       "    <tr>\n",
       "      <th>3</th>\n",
       "      <td>4</td>\n",
       "      <td>0.945830</td>\n",
       "      <td>Earnings Per Share (EPS)\\n\\n정의: 주당순이익(EPS)은 기업...</td>\n",
       "      <td>finance</td>\n",
       "      <td>finance-keywords.txt</td>\n",
       "      <td>-1</td>\n",
       "      <td>2</td>\n",
       "    </tr>\n",
       "  </tbody>\n",
       "</table>\n",
       "</div>"
      ],
      "text/plain": [
       "   rank  distance                                            snippet       db  \\\n",
       "0     1  0.724383  S&P 500\\n\\n정의: S&P 500은 미국 주식 시장에 상장된 500개의 대형...  finance   \n",
       "1     2  0.889912  Growth Stock\\n\\n정의: 성장주는 평균 이상의 높은 성장률을 보이는 기업...  finance   \n",
       "2     3  0.895336  ESG (Environmental, Social, and Governance)\\n\\...  finance   \n",
       "3     4  0.945830  Earnings Per Share (EPS)\\n\\n정의: 주당순이익(EPS)은 기업...  finance   \n",
       "\n",
       "                 source  page  chunk  \n",
       "0  finance-keywords.txt    -1      1  \n",
       "1  finance-keywords.txt    -1      3  \n",
       "2  finance-keywords.txt    -1      4  \n",
       "3  finance-keywords.txt    -1      2  "
      ]
     },
     "metadata": {},
     "output_type": "display_data"
    },
    {
     "data": {
      "text/html": [
       "<div>\n",
       "<style scoped>\n",
       "    .dataframe tbody tr th:only-of-type {\n",
       "        vertical-align: middle;\n",
       "    }\n",
       "\n",
       "    .dataframe tbody tr th {\n",
       "        vertical-align: top;\n",
       "    }\n",
       "\n",
       "    .dataframe thead th {\n",
       "        text-align: right;\n",
       "    }\n",
       "</style>\n",
       "<table border=\"1\" class=\"dataframe\">\n",
       "  <thead>\n",
       "    <tr style=\"text-align: right;\">\n",
       "      <th></th>\n",
       "      <th>rank</th>\n",
       "      <th>distance</th>\n",
       "      <th>snippet</th>\n",
       "      <th>db</th>\n",
       "      <th>source</th>\n",
       "      <th>page</th>\n",
       "      <th>chunk</th>\n",
       "    </tr>\n",
       "  </thead>\n",
       "  <tbody>\n",
       "    <tr>\n",
       "      <th>0</th>\n",
       "      <td>1</td>\n",
       "      <td>0.779547</td>\n",
       "      <td>SPRi\u0000이슈리포트\u0000IS-208과학을\u0000위한\u0000AI(AI4Science)\u0000연구의\u0000패러다...</td>\n",
       "      <td>ai4science</td>\n",
       "      <td>IS-208 과학을 위한 AI(AI4Science) 연구의 패러다임을 바꾸다.pdf</td>\n",
       "      <td>10</td>\n",
       "      <td>1</td>\n",
       "    </tr>\n",
       "    <tr>\n",
       "      <th>1</th>\n",
       "      <td>2</td>\n",
       "      <td>0.804110</td>\n",
       "      <td>SPRi\u0000이슈리포트\u0000IS-208과학을\u0000위한\u0000AI(AI4Science)\u0000연구의\u0000패러다...</td>\n",
       "      <td>ai4science</td>\n",
       "      <td>IS-208 과학을 위한 AI(AI4Science) 연구의 패러다임을 바꾸다.pdf</td>\n",
       "      <td>4</td>\n",
       "      <td>1</td>\n",
       "    </tr>\n",
       "    <tr>\n",
       "      <th>2</th>\n",
       "      <td>3</td>\n",
       "      <td>0.805671</td>\n",
       "      <td>SPRi\u0000이슈리포트\u0000IS-208과학을\u0000위한\u0000AI(AI4Science)\u0000연구의\u0000패러다...</td>\n",
       "      <td>ai4science</td>\n",
       "      <td>IS-208 과학을 위한 AI(AI4Science) 연구의 패러다임을 바꾸다.pdf</td>\n",
       "      <td>7</td>\n",
       "      <td>1</td>\n",
       "    </tr>\n",
       "    <tr>\n",
       "      <th>3</th>\n",
       "      <td>4</td>\n",
       "      <td>0.809505</td>\n",
       "      <td>SPRi\u0000이슈리포트\u0000IS-208과학을\u0000위한\u0000AI(AI4Science)\u0000연구의\u0000패러다...</td>\n",
       "      <td>ai4science</td>\n",
       "      <td>IS-208 과학을 위한 AI(AI4Science) 연구의 패러다임을 바꾸다.pdf</td>\n",
       "      <td>6</td>\n",
       "      <td>1</td>\n",
       "    </tr>\n",
       "    <tr>\n",
       "      <th>4</th>\n",
       "      <td>5</td>\n",
       "      <td>0.810753</td>\n",
       "      <td>SPRi\u0000이슈리포트\u0000IS-208과학을\u0000위한\u0000AI(AI4Science)\u0000연구의\u0000패러다...</td>\n",
       "      <td>ai4science</td>\n",
       "      <td>IS-208 과학을 위한 AI(AI4Science) 연구의 패러다임을 바꾸다.pdf</td>\n",
       "      <td>15</td>\n",
       "      <td>1</td>\n",
       "    </tr>\n",
       "  </tbody>\n",
       "</table>\n",
       "</div>"
      ],
      "text/plain": [
       "   rank  distance                                            snippet  \\\n",
       "0     1  0.779547  SPRi\u0000이슈리포트\u0000IS-208과학을\u0000위한\u0000AI(AI4Science)\u0000연구의\u0000패러다...   \n",
       "1     2  0.804110  SPRi\u0000이슈리포트\u0000IS-208과학을\u0000위한\u0000AI(AI4Science)\u0000연구의\u0000패러다...   \n",
       "2     3  0.805671  SPRi\u0000이슈리포트\u0000IS-208과학을\u0000위한\u0000AI(AI4Science)\u0000연구의\u0000패러다...   \n",
       "3     4  0.809505  SPRi\u0000이슈리포트\u0000IS-208과학을\u0000위한\u0000AI(AI4Science)\u0000연구의\u0000패러다...   \n",
       "4     5  0.810753  SPRi\u0000이슈리포트\u0000IS-208과학을\u0000위한\u0000AI(AI4Science)\u0000연구의\u0000패러다...   \n",
       "\n",
       "           db                                          source  page  chunk  \n",
       "0  ai4science  IS-208 과학을 위한 AI(AI4Science) 연구의 패러다임을 바꾸다.pdf    10      1  \n",
       "1  ai4science  IS-208 과학을 위한 AI(AI4Science) 연구의 패러다임을 바꾸다.pdf     4      1  \n",
       "2  ai4science  IS-208 과학을 위한 AI(AI4Science) 연구의 패러다임을 바꾸다.pdf     7      1  \n",
       "3  ai4science  IS-208 과학을 위한 AI(AI4Science) 연구의 패러다임을 바꾸다.pdf     6      1  \n",
       "4  ai4science  IS-208 과학을 위한 AI(AI4Science) 연구의 패러다임을 바꾸다.pdf    15      1  "
      ]
     },
     "metadata": {},
     "output_type": "display_data"
    }
   ],
   "source": [
    "def search(query: str, top_k: int = 5):\n",
    "\n",
    "    target_db = route_query(query)\n",
    "    collection = collections[target_db]\n",
    "\n",
    "    res = collection.query(\n",
    "        query_texts=[query],\n",
    "        n_results=top_k,\n",
    "        include=[\"documents\", \"metadatas\", \"distances\"]\n",
    "    )\n",
    "\n",
    "    docs = res.get(\"documents\", [[]])[0]\n",
    "    metas = res.get(\"metadatas\", [[]])[0]\n",
    "    dists = res.get(\"distances\", [[]])[0]\n",
    "\n",
    "    rows = []\n",
    "    for i, (doc, meta, dist) in enumerate(zip(docs, metas, dists), start=1):\n",
    "        rows.append({\n",
    "            \"rank\": i,\n",
    "            \"distance\": dist,\n",
    "            \"snippet\": (doc[:160] + (\"...\" if len(doc) > 160 else \"\")),\n",
    "            \"db\": target_db,\n",
    "            \"source\": Path(meta.get(\"source\")).name,\n",
    "            \"page\": meta.get(\"page\"),\n",
    "            \"chunk\": meta.get(\"chunk\"),\n",
    "        })\n",
    "    return pd.DataFrame(rows)\n",
    "\n",
    "display(search(\"S&P 500 지수의 정의와 특징\"))\n",
    "display(search(\"AI 연구 패러다임 전환\"))"
   ]
  }
 ],
 "metadata": {
  "colab": {
   "provenance": []
  },
  "kernelspec": {
   "display_name": "venv",
   "language": "python",
   "name": "python3"
  },
  "language_info": {
   "codemirror_mode": {
    "name": "ipython",
    "version": 3
   },
   "file_extension": ".py",
   "mimetype": "text/x-python",
   "name": "python",
   "nbconvert_exporter": "python",
   "pygments_lexer": "ipython3",
   "version": "3.11.9"
  }
 },
 "nbformat": 4,
 "nbformat_minor": 5
}
