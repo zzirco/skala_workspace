{
 "cells": [
  {
   "cell_type": "markdown",
   "id": "3beced36",
   "metadata": {},
   "source": [
    "\n",
    "# 🌲 화합물 독성예측 - RandomForest + GridSearchCV (Fingerprint 포함)\n",
    "\n",
    "이 노트북은 다음을 수행합니다:\n",
    "\n",
    "- **train.csv** 전체 학습 데이터 사용  \n",
    "- **모든 ECFP, FCFP, PTFP 컬럼** + **MolWt, clogp, sa_score, qed** 포함  \n",
    "- **GridSearchCV**를 통한 하이퍼파라미터 최적화 (교차검증 기반 F1 Score)  \n",
    "- **최적 모델 저장** 및 **Feature Importance 시각화**\n"
   ]
  },
  {
   "cell_type": "code",
   "execution_count": 3,
   "id": "0e47b763",
   "metadata": {},
   "outputs": [],
   "source": [
    "\n",
    "# !pip install -q scikit-learn pandas numpy matplotlib joblib seaborn\n",
    "\n",
    "import pandas as pd\n",
    "import numpy as np\n",
    "import matplotlib.pyplot as plt\n",
    "import seaborn as sns\n",
    "from pathlib import Path\n",
    "from sklearn.ensemble import RandomForestClassifier\n",
    "from sklearn.model_selection import GridSearchCV, StratifiedKFold\n",
    "from sklearn.metrics import f1_score, classification_report, confusion_matrix\n",
    "import joblib\n",
    "\n",
    "RANDOM_STATE = 42\n",
    "np.random.seed(RANDOM_STATE)\n"
   ]
  },
  {
   "cell_type": "markdown",
   "id": "125a946e",
   "metadata": {},
   "source": [
    "## 1️⃣ 데이터 로드 및 전처리"
   ]
  },
  {
   "cell_type": "code",
   "execution_count": 5,
   "id": "22db6db2",
   "metadata": {},
   "outputs": [
    {
     "name": "stdout",
     "output_type": "stream",
     "text": [
      "[데이터 경로] ./train.csv\n",
      "shape = (8349, 3078)\n"
     ]
    }
   ],
   "source": [
    "\n",
    "# 경로 자동 탐색 (Colab / 로컬 / ChatGPT 환경 대응)\n",
    "path = next((p for p in [\"/mnt/data/train.csv\", \"./train.csv\", \"/content/train.csv\"] if Path(p).exists()), None)\n",
    "assert path, \"train.csv 파일이 필요합니다.\"\n",
    "df = pd.read_csv(path)\n",
    "print(f\"[데이터 경로] {path}\")\n",
    "print(f\"shape = {df.shape}\")\n"
   ]
  },
  {
   "cell_type": "markdown",
   "id": "b9d82f8c",
   "metadata": {},
   "source": [
    "## 2️⃣ 라벨 정리"
   ]
  },
  {
   "cell_type": "code",
   "execution_count": 6,
   "id": "fbbff3df",
   "metadata": {},
   "outputs": [
    {
     "name": "stdout",
     "output_type": "stream",
     "text": [
      "라벨 분포:\n",
      "label_num\n",
      "0    3807\n",
      "1    4542\n",
      "Name: count, dtype: int64\n"
     ]
    }
   ],
   "source": [
    "\n",
    "df['label_num'] = pd.to_numeric(df['label'], errors='coerce')\n",
    "df = df[df['label_num'].isin([0, 1])].copy()\n",
    "y = df['label_num'].astype(int)\n",
    "print(\"라벨 분포:\")\n",
    "print(y.value_counts().sort_index())\n"
   ]
  },
  {
   "cell_type": "markdown",
   "id": "35d5538d",
   "metadata": {},
   "source": [
    "## 3️⃣ 피처 선택 (물성 + Fingerprint)"
   ]
  },
  {
   "cell_type": "code",
   "execution_count": 7,
   "id": "e0a41f48",
   "metadata": {},
   "outputs": [
    {
     "name": "stdout",
     "output_type": "stream",
     "text": [
      "사용 피처 수: 3076개\n"
     ]
    }
   ],
   "source": [
    "\n",
    "# 기본 물성 피처\n",
    "base_feats = [c for c in ['MolWt', 'clogp', 'sa_score', 'qed'] if c in df.columns]\n",
    "\n",
    "# fingerprint 컬럼 자동 탐색\n",
    "fp_cols = [c for c in df.columns if any(fp in c.upper() for fp in ['ECFP', 'FCFP', 'PTFP'])]\n",
    "\n",
    "feature_cols = base_feats + fp_cols\n",
    "print(f\"사용 피처 수: {len(feature_cols)}개\")\n",
    "X = df[feature_cols].replace([np.inf, -np.inf], np.nan).fillna(0)\n"
   ]
  },
  {
   "cell_type": "markdown",
   "id": "763e70f8",
   "metadata": {},
   "source": [
    "## 4️⃣ GridSearchCV 설정 및 학습"
   ]
  },
  {
   "cell_type": "code",
   "execution_count": 8,
   "id": "547b3151",
   "metadata": {},
   "outputs": [
    {
     "name": "stdout",
     "output_type": "stream",
     "text": [
      "Fitting 5 folds for each of 288 candidates, totalling 1440 fits\n",
      "최적 파라미터: {'max_depth': None, 'max_features': 'sqrt', 'min_samples_leaf': 1, 'min_samples_split': 2, 'n_estimators': 400}\n",
      "최고 교차검증 F1 Score: 0.8191\n",
      "✅ 모델 저장 완료: rf_best_gridsearch.joblib\n"
     ]
    }
   ],
   "source": [
    "\n",
    "rf = RandomForestClassifier(random_state=RANDOM_STATE, n_jobs=-1, class_weight='balanced_subsample')\n",
    "\n",
    "param_grid = {\n",
    "    \"n_estimators\": [200, 300, 400, 500],\n",
    "    \"max_depth\": [None, 10, 20, 30],\n",
    "    \"min_samples_split\": [2, 5, 10],\n",
    "    \"min_samples_leaf\": [1, 2, 4],\n",
    "    \"max_features\": [\"sqrt\", \"log2\"]\n",
    "}\n",
    "\n",
    "cv = StratifiedKFold(n_splits=5, shuffle=True, random_state=RANDOM_STATE)\n",
    "\n",
    "grid = GridSearchCV(\n",
    "    rf,\n",
    "    param_grid=param_grid,\n",
    "    scoring=\"f1\",\n",
    "    n_jobs=-1,\n",
    "    cv=cv,\n",
    "    verbose=2\n",
    ")\n",
    "\n",
    "grid.fit(X, y)\n",
    "\n",
    "print(f\"최적 파라미터: {grid.best_params_}\")\n",
    "print(f\"최고 교차검증 F1 Score: {grid.best_score_:.4f}\")\n",
    "best_model = grid.best_estimator_\n",
    "joblib.dump(best_model, \"rf_best_gridsearch.joblib\")\n",
    "print(\"✅ 모델 저장 완료: rf_best_gridsearch.joblib\")\n"
   ]
  },
  {
   "cell_type": "markdown",
   "id": "5e3e313d",
   "metadata": {},
   "source": [
    "## 5️⃣ 전체 데이터 재학습 및 성능 확인"
   ]
  },
  {
   "cell_type": "code",
   "execution_count": 12,
   "id": "5383a396",
   "metadata": {},
   "outputs": [
    {
     "name": "stdout",
     "output_type": "stream",
     "text": [
      "\n",
      "[전체 데이터 평가]\n",
      "              precision    recall  f1-score   support\n",
      "\n",
      "           0     0.9945    0.9966    0.9955      3807\n",
      "           1     0.9971    0.9954    0.9963      4542\n",
      "\n",
      "    accuracy                         0.9959      8349\n",
      "   macro avg     0.9958    0.9960    0.9959      8349\n",
      "weighted avg     0.9959    0.9959    0.9959      8349\n",
      "\n",
      "Confusion Matrix:\n",
      "[[3794   13]\n",
      " [  21 4521]]\n"
     ]
    }
   ],
   "source": [
    "\n",
    "pred = best_model.predict(X)\n",
    "print(\"\\n[전체 데이터 평가]\")\n",
    "print(classification_report(y, pred, digits=4))\n",
    "print(\"Confusion Matrix:\")\n",
    "print(confusion_matrix(y, pred))\n"
   ]
  },
  {
   "cell_type": "markdown",
   "id": "ad98158f",
   "metadata": {},
   "source": [
    "## 6️⃣ Feature Importance 시각화"
   ]
  },
  {
   "cell_type": "code",
   "execution_count": 13,
   "id": "efc5513f",
   "metadata": {},
   "outputs": [
    {
     "data": {
      "image/png": "[encoded data removed]",
      "text/plain": [
       "<Figure size 800x600 with 1 Axes>"
      ]
     },
     "metadata": {},
     "output_type": "display_data"
    },
    {
     "name": "stdout",
     "output_type": "stream",
     "text": [
      "📊 feature importance 저장 완료: rf_feature_importance.csv\n"
     ]
    }
   ],
   "source": [
    "\n",
    "importances = best_model.feature_importances_\n",
    "feat_imp = pd.DataFrame({\n",
    "    \"feature\": feature_cols,\n",
    "    \"importance\": importances\n",
    "}).sort_values(\"importance\", ascending=False)\n",
    "\n",
    "plt.figure(figsize=(8,6))\n",
    "sns.barplot(x=\"importance\", y=\"feature\", data=feat_imp.head(20))\n",
    "plt.title(\"Top 20 Feature Importances (RandomForest)\")\n",
    "plt.tight_layout()\n",
    "plt.show()\n",
    "\n",
    "feat_imp.to_csv(\"rf_feature_importance.csv\", index=False)\n",
    "print(\"📊 feature importance 저장 완료: rf_feature_importance.csv\")\n"
   ]
  },
  {
   "cell_type": "code",
   "execution_count": 15,
   "id": "20fb698e",
   "metadata": {},
   "outputs": [
    {
     "name": "stdout",
     "output_type": "stream",
     "text": [
      "[예측 입력 데이터 경로] ./predict_input.csv\n",
      "shape = (927, 3077)\n",
      "✅ 예측 결과 저장 완료: predict_output.csv\n",
      "                        SMILES  output\n",
      "0        OC(=O)c1cc2sccc2[nH]1       1\n",
      "1  [O-][n+]1onc(c2ccccc2)c1C#N       1\n",
      "2   CN1C(=O)N(C)c2ncn(C)c2C1=O       1\n",
      "3       Clc1cccc(c1)C2CNCC=CC2       1\n",
      "4   CCN(CC)CC(=O)Nc1c(C)cccc1C       1\n"
     ]
    },
    {
     "name": "stderr",
     "output_type": "stream",
     "text": [
      "c:\\skala_workspace\\RAG\\venv\\Lib\\site-packages\\sklearn\\utils\\validation.py:2749: UserWarning: X does not have valid feature names, but RandomForestClassifier was fitted with feature names\n",
      "  warnings.warn(\n"
     ]
    }
   ],
   "source": [
    "# ================================================\n",
    "# ✅ GridSearch로 학습된 최적 모델을 불러와 예측\n",
    "# ================================================\n",
    "import joblib\n",
    "import pandas as pd\n",
    "import numpy as np\n",
    "from pathlib import Path\n",
    "\n",
    "# 학습된 최적 모델 로드\n",
    "rf = joblib.load(\"rf_best_gridsearch.joblib\")\n",
    "\n",
    "# 예측용 데이터 로드\n",
    "pred_path = next((p for p in [\"/mnt/data/predict_input.csv\", \"./predict_input.csv\", \"/content/predict_input.csv\"] if Path(p).exists()), None)\n",
    "assert pred_path, \"predict_input.csv 파일이 필요합니다.\"\n",
    "pred_df = pd.read_csv(pred_path)\n",
    "print(f\"[예측 입력 데이터 경로] {pred_path}\")\n",
    "print(f\"shape = {pred_df.shape}\")\n",
    "\n",
    "# 동일한 피처 전처리\n",
    "X_base_pred = pred_df[base_feats].replace([np.inf, -np.inf], np.nan).fillna(0)\n",
    "X_fp_pred = pred_df[fp_cols].replace([np.inf, -np.inf], np.nan).fillna(0)\n",
    "X_pred_combined = np.hstack([X_base_pred.values, X_fp_pred.values])\n",
    "\n",
    "# 예측 수행\n",
    "pred_output = rf.predict(X_pred_combined)\n",
    "\n",
    "# 결과 저장\n",
    "out_df = pd.DataFrame({\n",
    "    \"SMILES\": pred_df[\"SMILES\"],\n",
    "    \"output\": pred_output\n",
    "})\n",
    "out_df.to_csv(\"predict_output.csv\", index=False)\n",
    "print(\"✅ 예측 결과 저장 완료: predict_output.csv\")\n",
    "print(out_df.head())\n"
   ]
  }
 ],
 "metadata": {
  "kernelspec": {
   "display_name": "venv",
   "language": "python",
   "name": "python3"
  },
  "language_info": {
   "codemirror_mode": {
    "name": "ipython",
    "version": 3
   },
   "file_extension": ".py",
   "mimetype": "text/x-python",
   "name": "python",
   "nbconvert_exporter": "python",
   "pygments_lexer": "ipython3",
   "version": "3.11.9"
  }
 },
 "nbformat": 4,
 "nbformat_minor": 5
}
