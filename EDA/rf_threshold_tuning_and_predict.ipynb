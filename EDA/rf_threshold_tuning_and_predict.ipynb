{
 "cells": [
  {
   "cell_type": "markdown",
   "id": "b90abe19",
   "metadata": {},
   "source": [
    "\n",
    "# 🎯 최적 임계값(Threshold) 튜닝 + 예측 출력 (.ipynb)\n",
    "\n",
    "이 노트북은 **GridSearch 재실행 없이**, 학습된 RF 모델을 사용해\n",
    "- 교차검증 OOF 확률로 **F1이 최대가 되는 임계값 t\\*** 를 찾고\n",
    "- `predict_input.csv`에 동일 임계값을 적용하여 `predict_output.csv`(`SMILES`, `output`)를 생성합니다.\n",
    "\n",
    "> 모델은 기존에 저장한 `rf_best_gridsearch.joblib`(권장) 또는 `rf_no_pca.joblib` 중 존재하는 파일을 자동으로 로드합니다.\n"
   ]
  },
  {
   "cell_type": "code",
   "execution_count": 1,
   "id": "bafae51d",
   "metadata": {},
   "outputs": [
    {
     "name": "stdout",
     "output_type": "stream",
     "text": [
      "[train] ./train.csv\n"
     ]
    }
   ],
   "source": [
    "\n",
    "# !pip install -q scikit-learn pandas numpy joblib matplotlib\n",
    "\n",
    "import numpy as np\n",
    "import pandas as pd\n",
    "import matplotlib.pyplot as plt\n",
    "from pathlib import Path\n",
    "import joblib\n",
    "\n",
    "from sklearn.model_selection import StratifiedKFold, cross_val_predict\n",
    "from sklearn.metrics import f1_score, precision_recall_curve\n",
    "\n",
    "RANDOM_STATE = 42\n",
    "np.random.seed(RANDOM_STATE)\n",
    "\n",
    "# 공통 경로 확인\n",
    "train_path = next((p for p in [\"/mnt/data/train.csv\",\"./train.csv\",\"/content/train.csv\"] if Path(p).exists()), None)\n",
    "assert train_path, \"train.csv 파일이 필요합니다.\"\n",
    "print(f\"[train] {train_path}\")\n"
   ]
  },
  {
   "cell_type": "markdown",
   "id": "c3218fb3",
   "metadata": {},
   "source": [
    "## 1) 데이터 로드 & 피처 구성 (SMILES 제외, No PCA)"
   ]
  },
  {
   "cell_type": "code",
   "execution_count": 2,
   "id": "cc65d7b9",
   "metadata": {},
   "outputs": [
    {
     "name": "stdout",
     "output_type": "stream",
     "text": [
      "Samples: 8349, Features: 3076  (base=4, fp=3072)\n",
      "Label distribution:\n",
      " label_num\n",
      "0    3807\n",
      "1    4542\n",
      "Name: count, dtype: int64\n"
     ]
    }
   ],
   "source": [
    "\n",
    "# 학습 데이터 로드\n",
    "df = pd.read_csv(train_path)\n",
    "\n",
    "# 라벨 정리\n",
    "df['label_num'] = pd.to_numeric(df['label'], errors='coerce')\n",
    "df = df[df['label_num'].isin([0,1])].copy()\n",
    "y = df['label_num'].astype(int)\n",
    "\n",
    "# 피처: SMILES 제외, 기본 물성 + 모든 fingerprint\n",
    "exclude_cols = ['label','label_num','SMILES']\n",
    "base_feats = [c for c in ['MolWt','clogp','sa_score','qed'] if c in df.columns]\n",
    "fp_cols = [c for c in df.columns if any(k in c.upper() for k in ['ECFP','FCFP','PTFP'])]\n",
    "\n",
    "feature_cols = base_feats + fp_cols\n",
    "X = df[feature_cols].replace([np.inf,-np.inf], np.nan).fillna(0).to_numpy()\n",
    "\n",
    "print(f\"Samples: {X.shape[0]}, Features: {X.shape[1]}  (base={len(base_feats)}, fp={len(fp_cols)})\")\n",
    "print(\"Label distribution:\\n\", y.value_counts().sort_index())\n"
   ]
  },
  {
   "cell_type": "markdown",
   "id": "97b0d471",
   "metadata": {},
   "source": [
    "## 2) 학습된 모델 로드"
   ]
  },
  {
   "cell_type": "code",
   "execution_count": 3,
   "id": "2b10201f",
   "metadata": {},
   "outputs": [
    {
     "name": "stdout",
     "output_type": "stream",
     "text": [
      "[model] loaded: ./rf_best_gridsearch.joblib\n"
     ]
    }
   ],
   "source": [
    "\n",
    "model_path = None\n",
    "candidates = [\"/mnt/data/rf_best_gridsearch.joblib\", \"./rf_best_gridsearch.joblib\",\n",
    "              \"/mnt/data/rf_no_pca.joblib\", \"./rf_no_pca.joblib\", \"/content/rf_no_pca.joblib\"]\n",
    "for p in candidates:\n",
    "    if Path(p).exists():\n",
    "        model_path = p\n",
    "        break\n",
    "\n",
    "assert model_path, \"학습된 모델 파일(rf_best_gridsearch.joblib 또는 rf_no_pca.joblib)이 필요합니다.\"\n",
    "rf = joblib.load(model_path)\n",
    "print(f\"[model] loaded: {model_path}\")\n"
   ]
  },
  {
   "cell_type": "markdown",
   "id": "2a8f83b6",
   "metadata": {},
   "source": [
    "## 3) OOF 확률 기반 임계값 스윕 (F1 최대 t*)"
   ]
  },
  {
   "cell_type": "code",
   "execution_count": 4,
   "id": "d7ffdb51",
   "metadata": {},
   "outputs": [
    {
     "name": "stdout",
     "output_type": "stream",
     "text": [
      "★ Best Threshold t* = 0.490 | OOF F1 = 0.8211\n"
     ]
    },
    {
     "data": {
      "image/png": "[encoded data removed]",
      "text/plain": [
       "<Figure size 700x450 with 1 Axes>"
      ]
     },
     "metadata": {},
     "output_type": "display_data"
    }
   ],
   "source": [
    "\n",
    "# OOF 확률 얻기 (모델을 각 폴드에서 새로 학습해 예측) — GridSearch 없이 빠르게\n",
    "cv = StratifiedKFold(n_splits=5, shuffle=True, random_state=42)\n",
    "oof_proba = cross_val_predict(rf, X, y, cv=cv, method=\"predict_proba\")[:,1]\n",
    "\n",
    "# 임계값 스윕\n",
    "ts = np.linspace(0.05, 0.95, 181)  # 0.05~0.95 (step=0.005)\n",
    "f1s = np.array([f1_score(y, (oof_proba >= t).astype(int)) for t in ts])\n",
    "\n",
    "best_idx = int(np.argmax(f1s))\n",
    "best_t = float(ts[best_idx])\n",
    "best_f1 = float(f1s[best_idx])\n",
    "print(f\"★ Best Threshold t* = {best_t:.3f} | OOF F1 = {best_f1:.4f}\")\n",
    "\n",
    "# 시각화\n",
    "plt.figure(figsize=(7,4.5))\n",
    "plt.plot(ts, f1s)\n",
    "plt.axvline(best_t, linestyle='--')\n",
    "plt.title(\"F1 vs Threshold (OOF)\")\n",
    "plt.xlabel(\"Threshold\")\n",
    "plt.ylabel(\"F1\")\n",
    "plt.tight_layout()\n",
    "plt.show()\n"
   ]
  },
  {
   "cell_type": "markdown",
   "id": "662b7a37",
   "metadata": {},
   "source": [
    "## 4) predict_input.csv 예측 → predict_output.csv (SMILES, output)"
   ]
  },
  {
   "cell_type": "code",
   "execution_count": 5,
   "id": "424f209d",
   "metadata": {},
   "outputs": [
    {
     "name": "stdout",
     "output_type": "stream",
     "text": [
      "[predict_input] ./predict_input.csv  shape=(927, 3077)\n",
      "✅ 저장 완료: predict_output.csv\n"
     ]
    },
    {
     "name": "stderr",
     "output_type": "stream",
     "text": [
      "c:\\skala_workspace\\RAG\\venv\\Lib\\site-packages\\sklearn\\utils\\validation.py:2749: UserWarning: X does not have valid feature names, but RandomForestClassifier was fitted with feature names\n",
      "  warnings.warn(\n"
     ]
    },
    {
     "data": {
      "text/html": [
       "<div>\n",
       "<style scoped>\n",
       "    .dataframe tbody tr th:only-of-type {\n",
       "        vertical-align: middle;\n",
       "    }\n",
       "\n",
       "    .dataframe tbody tr th {\n",
       "        vertical-align: top;\n",
       "    }\n",
       "\n",
       "    .dataframe thead th {\n",
       "        text-align: right;\n",
       "    }\n",
       "</style>\n",
       "<table border=\"1\" class=\"dataframe\">\n",
       "  <thead>\n",
       "    <tr style=\"text-align: right;\">\n",
       "      <th></th>\n",
       "      <th>SMILES</th>\n",
       "      <th>output</th>\n",
       "    </tr>\n",
       "  </thead>\n",
       "  <tbody>\n",
       "    <tr>\n",
       "      <th>0</th>\n",
       "      <td>OC(=O)c1cc2sccc2[nH]1</td>\n",
       "      <td>1</td>\n",
       "    </tr>\n",
       "    <tr>\n",
       "      <th>1</th>\n",
       "      <td>[O-][n+]1onc(c2ccccc2)c1C#N</td>\n",
       "      <td>1</td>\n",
       "    </tr>\n",
       "    <tr>\n",
       "      <th>2</th>\n",
       "      <td>CN1C(=O)N(C)c2ncn(C)c2C1=O</td>\n",
       "      <td>1</td>\n",
       "    </tr>\n",
       "    <tr>\n",
       "      <th>3</th>\n",
       "      <td>Clc1cccc(c1)C2CNCC=CC2</td>\n",
       "      <td>1</td>\n",
       "    </tr>\n",
       "    <tr>\n",
       "      <th>4</th>\n",
       "      <td>CCN(CC)CC(=O)Nc1c(C)cccc1C</td>\n",
       "      <td>1</td>\n",
       "    </tr>\n",
       "  </tbody>\n",
       "</table>\n",
       "</div>"
      ],
      "text/plain": [
       "                        SMILES  output\n",
       "0        OC(=O)c1cc2sccc2[nH]1       1\n",
       "1  [O-][n+]1onc(c2ccccc2)c1C#N       1\n",
       "2   CN1C(=O)N(C)c2ncn(C)c2C1=O       1\n",
       "3       Clc1cccc(c1)C2CNCC=CC2       1\n",
       "4   CCN(CC)CC(=O)Nc1c(C)cccc1C       1"
      ]
     },
     "execution_count": 5,
     "metadata": {},
     "output_type": "execute_result"
    }
   ],
   "source": [
    "\n",
    "# 예측 입력 로드\n",
    "pred_path = next((p for p in [\"/mnt/data/predict_input.csv\",\"./predict_input.csv\",\"/content/predict_input.csv\"] if Path(p).exists()), None)\n",
    "assert pred_path, \"predict_input.csv 파일이 필요합니다.\"\n",
    "pred_df = pd.read_csv(pred_path)\n",
    "print(f\"[predict_input] {pred_path}  shape={pred_df.shape}\")\n",
    "\n",
    "# 동일 전처리\n",
    "X_base_pred = pred_df[base_feats].replace([np.inf,-np.inf], np.nan).fillna(0) if base_feats else None\n",
    "X_fp_pred = pred_df[fp_cols].replace([np.inf,-np.inf], np.nan).fillna(0) if fp_cols else None\n",
    "\n",
    "if X_base_pred is not None and X_fp_pred is not None:\n",
    "    X_pred = np.hstack([X_base_pred.values, X_fp_pred.values])\n",
    "elif X_fp_pred is not None:\n",
    "    X_pred = X_fp_pred.values\n",
    "elif X_base_pred is not None:\n",
    "    X_pred = X_base_pred.values\n",
    "else:\n",
    "    raise ValueError(\"예측에 사용할 피처가 없습니다.\")\n",
    "\n",
    "# 확률 → 임계값 적용\n",
    "proba_pred = rf.predict_proba(X_pred)[:,1]\n",
    "pred_label = (proba_pred >= best_t).astype(int)\n",
    "\n",
    "out_df = pd.DataFrame({\n",
    "    \"SMILES\": pred_df[\"SMILES\"],\n",
    "    \"output\": pred_label\n",
    "})\n",
    "out_df.to_csv(\"predict_output.csv\", index=False)\n",
    "print(\"✅ 저장 완료: predict_output.csv\")\n",
    "out_df.head()\n"
   ]
  }
 ],
 "metadata": {
  "kernelspec": {
   "display_name": "venv",
   "language": "python",
   "name": "python3"
  },
  "language_info": {
   "codemirror_mode": {
    "name": "ipython",
    "version": 3
   },
   "file_extension": ".py",
   "mimetype": "text/x-python",
   "name": "python",
   "nbconvert_exporter": "python",
   "pygments_lexer": "ipython3",
   "version": "3.11.9"
  }
 },
 "nbformat": 4,
 "nbformat_minor": 5
}
