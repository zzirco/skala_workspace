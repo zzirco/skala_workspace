{
 "cells": [
  {
   "cell_type": "markdown",
   "id": "09604bb7",
   "metadata": {},
   "source": [
    "\n",
    "# 🌲 독성예측 — RandomForest **Bagging** + OOF 임계값 최적화 + 예측 (.ipynb)\n",
    "\n",
    "- **데이터**: `train.csv` (SMILES 제외, 수치형 + ECFP/FCFP/PTFP)\n",
    "- **모델**: RandomForest를 **seed bagging**(다른 random_state / 부트스트랩)으로 3~5개 학습 → 평균 확률\n",
    "- **튜닝**: **GridSearch 재실행 없음**. 5-Fold OOF 확률로 **F1 최대 임계값**을 탐색\n",
    "- **출력**: `predict_input.csv` → `predict_output.csv` (`SMILES`, `output`)\n",
    "- **옵션**: 기존 학습 모델(`rf_best_gridsearch.joblib` 또는 `rf_no_pca.joblib`)이 있으면 **그 파라미터를 재사용**하여 배깅\n"
   ]
  },
  {
   "cell_type": "code",
   "execution_count": 1,
   "id": "471af18f",
   "metadata": {},
   "outputs": [],
   "source": [
    "\n",
    "# !pip install -q scikit-learn pandas numpy joblib matplotlib\n",
    "\n",
    "import numpy as np, pandas as pd, matplotlib.pyplot as plt, joblib\n",
    "from pathlib import Path\n",
    "from sklearn.ensemble import RandomForestClassifier\n",
    "from sklearn.model_selection import StratifiedKFold\n",
    "from sklearn.metrics import f1_score, classification_report, confusion_matrix\n",
    "\n",
    "RANDOM_STATE = 42\n",
    "np.random.seed(RANDOM_STATE)\n",
    "\n",
    "TRAIN_CANDIDATES = [\"/mnt/data/train.csv\", \"./train.csv\", \"/content/train.csv\"]\n",
    "PRED_CANDIDATES  = [\"/mnt/data/predict_input.csv\", \"./predict_input.csv\", \"/content/predict_input.csv\"]\n",
    "MODEL_CANDIDATES = [\"/mnt/data/rf_best_gridsearch.joblib\", \"./rf_best_gridsearch.joblib\",\n",
    "                    \"/mnt/data/rf_no_pca.joblib\", \"./rf_no_pca.joblib\", \"/content/rf_no_pca.joblib\"]\n",
    "\n",
    "N_MODELS = 5  # 배깅 개수 (3~5 권장)\n"
   ]
  },
  {
   "cell_type": "markdown",
   "id": "a3670749",
   "metadata": {},
   "source": [
    "## 1) 데이터 로드 & 피처 구성 (SMILES 제외, No PCA)"
   ]
  },
  {
   "cell_type": "code",
   "execution_count": 2,
   "id": "012d18e3",
   "metadata": {},
   "outputs": [
    {
     "name": "stdout",
     "output_type": "stream",
     "text": [
      "[train] ./train.csv  shape=(8349, 3078)\n",
      "Samples=8349, Features=3076  (base=4, fp=3072)\n",
      "Label distribution:\n",
      " 0    3807\n",
      "1    4542\n",
      "Name: count, dtype: int64\n"
     ]
    }
   ],
   "source": [
    "\n",
    "# load train.csv\n",
    "train_path = next((p for p in TRAIN_CANDIDATES if Path(p).exists()), None)\n",
    "assert train_path, \"train.csv 파일이 필요합니다.\"\n",
    "df = pd.read_csv(train_path)\n",
    "print(f\"[train] {train_path}  shape={df.shape}\")\n",
    "\n",
    "# label clean\n",
    "df['label_num'] = pd.to_numeric(df['label'], errors='coerce')\n",
    "df = df[df['label_num'].isin([0,1])].copy()\n",
    "y = df['label_num'].astype(int).to_numpy()\n",
    "\n",
    "# features\n",
    "exclude_cols = {'label','label_num','SMILES'}\n",
    "base_feats = [c for c in ['MolWt','clogp','sa_score','qed'] if c in df.columns]\n",
    "fp_cols = [c for c in df.columns if any(k in c.upper() for k in ['ECFP','FCFP','PTFP'])]\n",
    "feature_cols = [c for c in (base_feats + fp_cols) if c not in exclude_cols]\n",
    "\n",
    "X = df[feature_cols].replace([np.inf,-np.inf], np.nan).fillna(0).to_numpy()\n",
    "\n",
    "print(f\"Samples={X.shape[0]}, Features={X.shape[1]}  (base={len(base_feats)}, fp={len(fp_cols)})\")\n",
    "print(\"Label distribution:\\n\", pd.Series(y).value_counts().sort_index())\n"
   ]
  },
  {
   "cell_type": "markdown",
   "id": "7e89f9fd",
   "metadata": {},
   "source": [
    "## 2) 베이스 하이퍼파라미터 설정 (기존 모델 파라미터 재사용 우선)"
   ]
  },
  {
   "cell_type": "code",
   "execution_count": 3,
   "id": "1002f1ee",
   "metadata": {},
   "outputs": [
    {
     "name": "stdout",
     "output_type": "stream",
     "text": [
      "[model] Loaded base params from ./rf_best_gridsearch.joblib\n",
      "Base RF params: {'n_estimators': 400, 'max_depth': None, 'min_samples_split': 2, 'min_samples_leaf': 1, 'max_features': 'sqrt', 'n_jobs': -1, 'class_weight': 'balanced_subsample', 'random_state': 42}\n"
     ]
    }
   ],
   "source": [
    "\n",
    "# 기존 모델이 있으면 그 파라미터를 재사용 (GridSearch 재탐색 없음)\n",
    "base_params = dict(\n",
    "    n_estimators=400,\n",
    "    max_depth=None,\n",
    "    min_samples_split=2,\n",
    "    min_samples_leaf=1,\n",
    "    max_features=\"sqrt\",\n",
    "    n_jobs=-1,\n",
    "    class_weight=\"balanced_subsample\",\n",
    "    random_state=RANDOM_STATE\n",
    ")\n",
    "\n",
    "model_path = next((p for p in MODEL_CANDIDATES if Path(p).exists()), None)\n",
    "if model_path is not None:\n",
    "    try:\n",
    "        loaded = joblib.load(model_path)\n",
    "        # 경우에 따라 파이프라인이 아닌 순수 RF일 것을 가정\n",
    "        if isinstance(loaded, RandomForestClassifier):\n",
    "            base_params.update({k: loaded.get_params().get(k, v) for k, v in base_params.items()})\n",
    "            print(f\"[model] Loaded base params from {model_path}\")\n",
    "        elif isinstance(loaded, dict) and 'models' in loaded:\n",
    "            # 이미 배깅 저장 형태일 경우 첫 모델의 파라미터 참고\n",
    "            if isinstance(loaded['models'][0], RandomForestClassifier):\n",
    "                base_params.update({k: loaded['models'][0].get_params().get(k, v) for k, v in base_params.items()})\n",
    "                print(f\"[model] Loaded bagging params from {model_path}\")\n",
    "            else:\n",
    "                print(f\"[model] dict found but unknown model type; using default params.\")\n",
    "        else:\n",
    "            print(f\"[model] Not an RF instance; using default params.\")\n",
    "    except Exception as e:\n",
    "        print(f\"[WARN] Could not load params from {model_path}: {e} — using defaults.\")\n",
    "else:\n",
    "    print(\"[model] No prior model found — using default params.\")\n",
    "\n",
    "print(\"Base RF params:\", base_params)\n"
   ]
  },
  {
   "cell_type": "markdown",
   "id": "521367e3",
   "metadata": {},
   "source": [
    "## 3) 5-Fold OOF 기반 임계값 탐색 + 배깅 구성"
   ]
  },
  {
   "cell_type": "code",
   "execution_count": 4,
   "id": "c610d064",
   "metadata": {},
   "outputs": [
    {
     "name": "stdout",
     "output_type": "stream",
     "text": [
      "[Fold 1] interim F1@0.5 = 0.8260\n",
      "[Fold 2] interim F1@0.5 = 0.8123\n",
      "[Fold 3] interim F1@0.5 = 0.7941\n",
      "[Fold 4] interim F1@0.5 = 0.8189\n",
      "[Fold 5] interim F1@0.5 = 0.8269\n",
      "★ Best Threshold t* = 0.470 | OOF F1 = 0.8172\n"
     ]
    },
    {
     "data": {
      "image/png": "[encoded data removed]",
      "text/plain": [
       "<Figure size 700x450 with 1 Axes>"
      ]
     },
     "metadata": {},
     "output_type": "display_data"
    }
   ],
   "source": [
    "\n",
    "skf = StratifiedKFold(n_splits=5, shuffle=True, random_state=RANDOM_STATE)\n",
    "oof_proba = np.zeros(X.shape[0], dtype=float)\n",
    "\n",
    "def fit_one_rf(seed, X_tr, y_tr):\n",
    "    params = base_params.copy()\n",
    "    params['random_state'] = seed\n",
    "    clf = RandomForestClassifier(**params)\n",
    "    # 부트스트랩 샘플로 배깅 효과 강화\n",
    "    rng = np.random.RandomState(seed)\n",
    "    boot_idx = rng.choice(len(X_tr), size=len(X_tr), replace=True)\n",
    "    clf.fit(X_tr[boot_idx], y_tr[boot_idx])\n",
    "    return clf\n",
    "\n",
    "fold_models = []  # 각 폴드마다 학습된 배깅 모델 리스트 저장(임계값 탐색 후 폐기 가능)\n",
    "\n",
    "for fold, (tr_idx, va_idx) in enumerate(skf.split(X, y), 1):\n",
    "    X_tr, y_tr = X[tr_idx], y[tr_idx]\n",
    "    X_va, y_va = X[va_idx], y[va_idx]\n",
    "\n",
    "    models = []\n",
    "    proba_sum = np.zeros(len(va_idx), dtype=float)\n",
    "    for m in range(N_MODELS):\n",
    "        seed = RANDOM_STATE + 1000*fold + m  # 폴드별로 다른 시드\n",
    "        clf = fit_one_rf(seed, X_tr, y_tr)\n",
    "        models.append(clf)\n",
    "        proba_sum += clf.predict_proba(X_va)[:,1]\n",
    "    fold_models.append(models)\n",
    "    oof_proba[va_idx] = proba_sum / N_MODELS\n",
    "    f1_fold = f1_score(y_va, (oof_proba[va_idx] >= 0.5).astype(int))\n",
    "    print(f\"[Fold {fold}] interim F1@0.5 = {f1_fold:.4f}\")\n",
    "\n",
    "# 임계값 스윕\n",
    "ts = np.linspace(0.05, 0.95, 181)\n",
    "f1s = np.array([f1_score(y, (oof_proba >= t).astype(int)) for t in ts])\n",
    "best_idx = int(np.argmax(f1s))\n",
    "best_t = float(ts[best_idx])\n",
    "best_f1 = float(f1s[best_idx])\n",
    "print(f\"★ Best Threshold t* = {best_t:.3f} | OOF F1 = {best_f1:.4f}\")\n",
    "\n",
    "# 시각화\n",
    "plt.figure(figsize=(7,4.5))\n",
    "plt.plot(ts, f1s)\n",
    "plt.axvline(best_t, linestyle='--')\n",
    "plt.title(\"F1 vs Threshold (OOF, Bagging RF)\")\n",
    "plt.xlabel(\"Threshold\"); plt.ylabel(\"F1\")\n",
    "plt.tight_layout(); plt.show()\n"
   ]
  },
  {
   "cell_type": "markdown",
   "id": "50e8dc12",
   "metadata": {},
   "source": [
    "## 4) 전체 데이터로 최종 배깅 모델 재학습 & 저장"
   ]
  },
  {
   "cell_type": "code",
   "execution_count": 5,
   "id": "0b3114eb",
   "metadata": {},
   "outputs": [
    {
     "name": "stdout",
     "output_type": "stream",
     "text": [
      "✅ 저장 완료: rf_bagging_bundle.joblib\n",
      "\n",
      "[Training Data Evaluation]\n",
      "              precision    recall  f1-score   support\n",
      "\n",
      "           0     0.9832    0.9511    0.9669      3807\n",
      "           1     0.9601    0.9863    0.9731      4542\n",
      "\n",
      "    accuracy                         0.9703      8349\n",
      "   macro avg     0.9717    0.9687    0.9700      8349\n",
      "weighted avg     0.9706    0.9703    0.9702      8349\n",
      "\n",
      "Confusion Matrix:\n",
      "[[3621  186]\n",
      " [  62 4480]]\n"
     ]
    }
   ],
   "source": [
    "\n",
    "final_models = []\n",
    "for m in range(N_MODELS):\n",
    "    seed = RANDOM_STATE + 777*m\n",
    "    clf = fit_one_rf(seed, X, y)\n",
    "    final_models.append(clf)\n",
    "\n",
    "bundle = {\n",
    "    \"models\": final_models,\n",
    "    \"feature_cols\": feature_cols,\n",
    "    \"base_feats\": base_feats,\n",
    "    \"fp_cols\": fp_cols,\n",
    "    \"best_t\": best_t,\n",
    "    \"params\": base_params,\n",
    "    \"n_models\": N_MODELS\n",
    "}\n",
    "joblib.dump(bundle, \"rf_bagging_bundle.joblib\")\n",
    "print(\"✅ 저장 완료: rf_bagging_bundle.joblib\")\n",
    "\n",
    "# 참고용: 학습 데이터 평가 (threshold 적용)\n",
    "proba_train = np.mean([m.predict_proba(X)[:,1] for m in final_models], axis=0)\n",
    "pred_train = (proba_train >= best_t).astype(int)\n",
    "print(\"\\n[Training Data Evaluation]\")\n",
    "print(classification_report(y, pred_train, digits=4))\n",
    "print(\"Confusion Matrix:\")\n",
    "print(confusion_matrix(y, pred_train))\n"
   ]
  },
  {
   "cell_type": "markdown",
   "id": "85808cae",
   "metadata": {},
   "source": [
    "## 5) predict_input.csv → predict_output.csv (SMILES, output)"
   ]
  },
  {
   "cell_type": "code",
   "execution_count": 6,
   "id": "ea003339",
   "metadata": {},
   "outputs": [
    {
     "name": "stdout",
     "output_type": "stream",
     "text": [
      "[predict_input] ./predict_input.csv  shape=(927, 3077)\n",
      "✅ 예측 결과 저장 완료: predict_output.csv\n"
     ]
    },
    {
     "data": {
      "text/html": [
       "<div>\n",
       "<style scoped>\n",
       "    .dataframe tbody tr th:only-of-type {\n",
       "        vertical-align: middle;\n",
       "    }\n",
       "\n",
       "    .dataframe tbody tr th {\n",
       "        vertical-align: top;\n",
       "    }\n",
       "\n",
       "    .dataframe thead th {\n",
       "        text-align: right;\n",
       "    }\n",
       "</style>\n",
       "<table border=\"1\" class=\"dataframe\">\n",
       "  <thead>\n",
       "    <tr style=\"text-align: right;\">\n",
       "      <th></th>\n",
       "      <th>SMILES</th>\n",
       "      <th>output</th>\n",
       "    </tr>\n",
       "  </thead>\n",
       "  <tbody>\n",
       "    <tr>\n",
       "      <th>0</th>\n",
       "      <td>OC(=O)c1cc2sccc2[nH]1</td>\n",
       "      <td>1</td>\n",
       "    </tr>\n",
       "    <tr>\n",
       "      <th>1</th>\n",
       "      <td>[O-][n+]1onc(c2ccccc2)c1C#N</td>\n",
       "      <td>1</td>\n",
       "    </tr>\n",
       "    <tr>\n",
       "      <th>2</th>\n",
       "      <td>CN1C(=O)N(C)c2ncn(C)c2C1=O</td>\n",
       "      <td>1</td>\n",
       "    </tr>\n",
       "    <tr>\n",
       "      <th>3</th>\n",
       "      <td>Clc1cccc(c1)C2CNCC=CC2</td>\n",
       "      <td>1</td>\n",
       "    </tr>\n",
       "    <tr>\n",
       "      <th>4</th>\n",
       "      <td>CCN(CC)CC(=O)Nc1c(C)cccc1C</td>\n",
       "      <td>1</td>\n",
       "    </tr>\n",
       "  </tbody>\n",
       "</table>\n",
       "</div>"
      ],
      "text/plain": [
       "                        SMILES  output\n",
       "0        OC(=O)c1cc2sccc2[nH]1       1\n",
       "1  [O-][n+]1onc(c2ccccc2)c1C#N       1\n",
       "2   CN1C(=O)N(C)c2ncn(C)c2C1=O       1\n",
       "3       Clc1cccc(c1)C2CNCC=CC2       1\n",
       "4   CCN(CC)CC(=O)Nc1c(C)cccc1C       1"
      ]
     },
     "execution_count": 6,
     "metadata": {},
     "output_type": "execute_result"
    }
   ],
   "source": [
    "\n",
    "pred_path = next((p for p in PRED_CANDIDATES if Path(p).exists()), None)\n",
    "assert pred_path, \"predict_input.csv 파일이 필요합니다.\"\n",
    "pred_df = pd.read_csv(pred_path)\n",
    "print(f\"[predict_input] {pred_path}  shape={pred_df.shape}\")\n",
    "\n",
    "X_base_pred = pred_df[base_feats].replace([np.inf,-np.inf], np.nan).fillna(0) if base_feats else None\n",
    "X_fp_pred = pred_df[fp_cols].replace([np.inf,-np.inf], np.nan).fillna(0) if fp_cols else None\n",
    "\n",
    "if X_base_pred is not None and X_fp_pred is not None:\n",
    "    X_pred = np.hstack([X_base_pred.values, X_fp_pred.values])\n",
    "elif X_fp_pred is not None:\n",
    "    X_pred = X_fp_pred.values\n",
    "elif X_base_pred is not None:\n",
    "    X_pred = X_base_pred.values\n",
    "else:\n",
    "    raise ValueError(\"예측에 사용할 피처가 없습니다.\")\n",
    "\n",
    "# 앙상블 확률 평균 → 임계값 적용\n",
    "proba_pred = np.mean([m.predict_proba(X_pred)[:,1] for m in final_models], axis=0)\n",
    "pred_label = (proba_pred >= best_t).astype(int)\n",
    "\n",
    "out_df = pd.DataFrame({\n",
    "    \"SMILES\": pred_df[\"SMILES\"],\n",
    "    \"output\": pred_label\n",
    "})\n",
    "out_df.to_csv(\"predict_output.csv\", index=False)\n",
    "print(\"✅ 예측 결과 저장 완료: predict_output.csv\")\n",
    "out_df.head()\n"
   ]
  },
  {
   "cell_type": "code",
   "execution_count": 7,
   "id": "38391963",
   "metadata": {},
   "outputs": [
    {
     "name": "stdout",
     "output_type": "stream",
     "text": [
      "OOF F1 @ 0.5  = 0.8157\n",
      "OOF F1 @ t*(0.470) = 0.8172\n"
     ]
    }
   ],
   "source": [
    "# ================================================\n",
    "# 🧪 Bagging OOF 재평가 (F1 @ 0.5 와 F1 @ best_t)\n",
    "# 전제: X, y, base_params, N_MODELS, RANDOM_STATE 가 위에서 정의되어 있어야 함\n",
    "# ================================================\n",
    "import numpy as np\n",
    "from sklearn.ensemble import RandomForestClassifier\n",
    "from sklearn.model_selection import StratifiedKFold\n",
    "from sklearn.metrics import f1_score\n",
    "\n",
    "def fit_one_rf(seed, X_tr, y_tr, base_params):\n",
    "    params = base_params.copy()\n",
    "    params['random_state'] = seed\n",
    "    clf = RandomForestClassifier(**params)\n",
    "    rng = np.random.RandomState(seed)\n",
    "    boot_idx = rng.choice(len(X_tr), size=len(X_tr), replace=True)  # 간단 배깅\n",
    "    clf.fit(X_tr[boot_idx], y_tr[boot_idx])\n",
    "    return clf\n",
    "\n",
    "skf = StratifiedKFold(n_splits=5, shuffle=True, random_state=RANDOM_STATE)\n",
    "oof_proba = np.zeros(X.shape[0], dtype=float)\n",
    "\n",
    "for fold, (tr_idx, va_idx) in enumerate(skf.split(X, y), 1):\n",
    "    X_tr, y_tr = X[tr_idx], y[tr_idx]\n",
    "    X_va, y_va = X[va_idx], y[va_idx]\n",
    "\n",
    "    proba_sum = np.zeros(len(va_idx), dtype=float)\n",
    "    for m in range(N_MODELS):\n",
    "        seed = RANDOM_STATE + 1000*fold + m\n",
    "        clf = fit_one_rf(seed, X_tr, y_tr, base_params)\n",
    "        proba_sum += clf.predict_proba(X_va)[:, 1]\n",
    "    oof_proba[va_idx] = proba_sum / N_MODELS\n",
    "\n",
    "# F1 @ 0.5\n",
    "f1_05 = f1_score(y, (oof_proba >= 0.5).astype(int))\n",
    "# F1 @ best_t (위 임계값 튜닝에서 얻은 best_t 변수를 재사용)\n",
    "try:\n",
    "    f1_best = f1_score(y, (oof_proba >= best_t).astype(int))\n",
    "except NameError:\n",
    "    # best_t가 없다면 OOF에서 다시 스윕해서 구함\n",
    "    ts = np.linspace(0.05, 0.95, 181)\n",
    "    f1s = np.array([f1_score(y, (oof_proba >= t).astype(int)) for t in ts])\n",
    "    best_t = float(ts[int(np.argmax(f1s))])\n",
    "    f1_best = f1s.max()\n",
    "\n",
    "print(f\"OOF F1 @ 0.5  = {f1_05:.4f}\")\n",
    "print(f\"OOF F1 @ t*({best_t:.3f}) = {f1_best:.4f}\")\n"
   ]
  }
 ],
 "metadata": {
  "kernelspec": {
   "display_name": "venv",
   "language": "python",
   "name": "python3"
  },
  "language_info": {
   "codemirror_mode": {
    "name": "ipython",
    "version": 3
   },
   "file_extension": ".py",
   "mimetype": "text/x-python",
   "name": "python",
   "nbconvert_exporter": "python",
   "pygments_lexer": "ipython3",
   "version": "3.11.9"
  }
 },
 "nbformat": 4,
 "nbformat_minor": 5
}
