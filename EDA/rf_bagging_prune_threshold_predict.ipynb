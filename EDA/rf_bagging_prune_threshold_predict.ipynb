{
 "cells": [
  {
   "cell_type": "markdown",
   "id": "5a6c3926",
   "metadata": {},
   "source": [
    "\n",
    "# 🌲 독성예측 — **class_weight=None** + **중요도 하위 비트 프루닝** + Bagging + OOF 임계값 최적화 + 예측\n",
    "\n",
    "- **데이터**: `train.csv` (SMILES 제외, 수치형 + ECFP/FCFP/PTFP, No PCA)  \n",
    "- **가중치**: `class_weight=None` (기본값)  \n",
    "- **프루닝**: RandomForest 중요도 기반 **하위 p% 비트 일괄 제거** (기본 20%)  \n",
    "- **모델**: 같은 하이퍼파라미터로 **배깅(N개, 시드만 다르게)** → 확률 평균  \n",
    "- **튜닝**: **GridSearch 없이**, 5-Fold **OOF 확률**로 **F1 최대 임계값** 탐색  \n",
    "- **출력**: `predict_input.csv` → `predict_output.csv` (`SMILES`, `output`)\n"
   ]
  },
  {
   "cell_type": "code",
   "execution_count": 1,
   "id": "0afcacf7",
   "metadata": {},
   "outputs": [],
   "source": [
    "\n",
    "# !pip install -q scikit-learn pandas numpy joblib matplotlib\n",
    "\n",
    "import numpy as np, pandas as pd, matplotlib.pyplot as plt, joblib\n",
    "from pathlib import Path\n",
    "from sklearn.ensemble import RandomForestClassifier\n",
    "from sklearn.model_selection import StratifiedKFold\n",
    "from sklearn.metrics import f1_score, classification_report, confusion_matrix\n",
    "\n",
    "RANDOM_STATE = 42\n",
    "np.random.seed(RANDOM_STATE)\n",
    "\n",
    "TRAIN_CANDIDATES = [\"/mnt/data/train.csv\", \"./train.csv\", \"/content/train.csv\"]\n",
    "PRED_CANDIDATES  = [\"/mnt/data/predict_input.csv\", \"./predict_input.csv\", \"/content/predict_input.csv\"]\n",
    "\n",
    "# 배깅 개수 (시간 대비 3~5 권장)\n",
    "N_MODELS = 5\n",
    "\n",
    "# 중요도 하위 프루닝 비율 (예: 0.2 → 하위 20% 제거)\n",
    "PRUNE_RATIO = 0.20\n"
   ]
  },
  {
   "cell_type": "markdown",
   "id": "4766b804",
   "metadata": {},
   "source": [
    "## 1) 데이터 로드 & 피처 구성 (SMILES 제외, No PCA)"
   ]
  },
  {
   "cell_type": "code",
   "execution_count": 2,
   "id": "6051b4be",
   "metadata": {},
   "outputs": [
    {
     "name": "stdout",
     "output_type": "stream",
     "text": [
      "[train] ./train.csv  shape=(8349, 3078)\n",
      "Samples=8349, Features=3076  (base=4, fp=3072)\n",
      "Label distribution:\n",
      " 0    3807\n",
      "1    4542\n",
      "Name: count, dtype: int64\n"
     ]
    }
   ],
   "source": [
    "\n",
    "train_path = next((p for p in TRAIN_CANDIDATES if Path(p).exists()), None)\n",
    "assert train_path, \"train.csv 파일이 필요합니다.\"\n",
    "df = pd.read_csv(train_path)\n",
    "print(f\"[train] {train_path}  shape={df.shape}\")\n",
    "\n",
    "# 라벨 정리\n",
    "df['label_num'] = pd.to_numeric(df['label'], errors='coerce')\n",
    "df = df[df['label_num'].isin([0,1])].copy()\n",
    "y = df['label_num'].astype(int).to_numpy()\n",
    "\n",
    "# 피처 구성\n",
    "exclude_cols = {'label','label_num','SMILES'}\n",
    "base_feats = [c for c in ['MolWt','clogp','sa_score','qed'] if c in df.columns]\n",
    "fp_cols = [c for c in df.columns if any(k in c.upper() for k in ['ECFP','FCFP','PTFP'])]\n",
    "feature_cols = [c for c in (base_feats + fp_cols) if c not in exclude_cols]\n",
    "\n",
    "X_df = df[feature_cols].replace([np.inf,-np.inf], np.nan).fillna(0)\n",
    "X = X_df.to_numpy()\n",
    "\n",
    "print(f\"Samples={X.shape[0]}, Features={X.shape[1]}  (base={len(base_feats)}, fp={len(fp_cols)})\")\n",
    "print(\"Label distribution:\\n\", pd.Series(y).value_counts().sort_index())\n"
   ]
  },
  {
   "cell_type": "markdown",
   "id": "af0fc4f9",
   "metadata": {},
   "source": [
    "## 2) 베이스 하이퍼파라미터 (class_weight=None)"
   ]
  },
  {
   "cell_type": "code",
   "execution_count": 3,
   "id": "8ae0006d",
   "metadata": {},
   "outputs": [
    {
     "name": "stdout",
     "output_type": "stream",
     "text": [
      "Base RF params: {'n_estimators': 400, 'max_depth': None, 'min_samples_split': 2, 'min_samples_leaf': 1, 'max_features': 'sqrt', 'n_jobs': -1, 'class_weight': None, 'random_state': 42}\n"
     ]
    }
   ],
   "source": [
    "\n",
    "base_params = dict(\n",
    "    n_estimators=400,\n",
    "    max_depth=None,\n",
    "    min_samples_split=2,\n",
    "    min_samples_leaf=1,\n",
    "    max_features=\"sqrt\",\n",
    "    n_jobs=-1,\n",
    "    class_weight=None,   # ✅ 기본값 사용\n",
    "    random_state=RANDOM_STATE\n",
    ")\n",
    "print(\"Base RF params:\", base_params)\n"
   ]
  },
  {
   "cell_type": "markdown",
   "id": "45fc9bed",
   "metadata": {},
   "source": [
    "## 3) 중요도 기반 하위 p% 프루닝 (한 번 학습해서 중요도 산출)"
   ]
  },
  {
   "cell_type": "code",
   "execution_count": 4,
   "id": "e96abef8",
   "metadata": {},
   "outputs": [
    {
     "name": "stdout",
     "output_type": "stream",
     "text": [
      "Total features: 3076\n",
      "Pruned (bottom 20%): 615\n",
      "Kept features: 2461\n",
      "예시 유지 피처 상위 10개: ['ecfp_377', 'ecfp_876', 'ecfp_152', 'ptfp_243', 'ecfp_991', 'fcfp_830', 'fcfp_161', 'fcfp_625', 'ecfp_382', 'fcfp_575']\n",
      "✅ 선택 피처 저장: selected_features_after_pruning.csv\n"
     ]
    }
   ],
   "source": [
    "\n",
    "# 전체 데이터로 단일 RF를 한 번 학습해 중요도 산출 (빠르고 단순)\n",
    "rf_for_importance = RandomForestClassifier(**base_params)\n",
    "rf_for_importance.fit(X, y)\n",
    "importances = rf_for_importance.feature_importances_\n",
    "\n",
    "# 하위 PRUNE_RATIO 비율의 피처 인덱스 제거\n",
    "n_feats = X.shape[1]\n",
    "n_prune = int(n_feats * PRUNE_RATIO)\n",
    "order = np.argsort(importances)  # 오름차순: 하위 → 상위\n",
    "prune_idx = order[:n_prune]\n",
    "keep_idx = order[n_prune:]\n",
    "\n",
    "selected_features = [feature_cols[i] for i in keep_idx]\n",
    "X_pruned = X[:, keep_idx]\n",
    "\n",
    "print(f\"Total features: {n_feats}\")\n",
    "print(f\"Pruned (bottom {PRUNE_RATIO*100:.0f}%): {n_prune}\")\n",
    "print(f\"Kept features: {len(keep_idx)}\")\n",
    "print(\"예시 유지 피처 상위 10개:\", selected_features[:10])\n",
    "\n",
    "# 선택 피처 저장\n",
    "pd.Series(selected_features, name=\"selected_feature\").to_csv(\"selected_features_after_pruning.csv\", index=False)\n",
    "print(\"✅ 선택 피처 저장: selected_features_after_pruning.csv\")\n"
   ]
  },
  {
   "cell_type": "markdown",
   "id": "de2f3577",
   "metadata": {},
   "source": [
    "## 4) 5-Fold OOF 기반 임계값 탐색 (프루닝된 피처로 배깅)"
   ]
  },
  {
   "cell_type": "code",
   "execution_count": 5,
   "id": "393b0a68",
   "metadata": {},
   "outputs": [
    {
     "name": "stdout",
     "output_type": "stream",
     "text": [
      "[Fold 1] done.\n",
      "[Fold 2] done.\n",
      "[Fold 3] done.\n",
      "[Fold 4] done.\n",
      "[Fold 5] done.\n",
      "★ Best Threshold t* = 0.475 | OOF F1 (Pruned+Bagging) = 0.8166\n"
     ]
    },
    {
     "data": {
      "image/png": "[encoded data removed]",
      "text/plain": [
       "<Figure size 700x450 with 1 Axes>"
      ]
     },
     "metadata": {},
     "output_type": "display_data"
    }
   ],
   "source": [
    "\n",
    "skf = StratifiedKFold(n_splits=5, shuffle=True, random_state=RANDOM_STATE)\n",
    "oof_proba = np.zeros(X_pruned.shape[0], dtype=float)\n",
    "\n",
    "def fit_one_rf(seed, X_tr, y_tr):\n",
    "    params = base_params.copy()\n",
    "    params['random_state'] = seed\n",
    "    clf = RandomForestClassifier(**params)\n",
    "    # 부트스트랩 배깅\n",
    "    rng = np.random.RandomState(seed)\n",
    "    boot_idx = rng.choice(len(X_tr), size=len(X_tr), replace=True)\n",
    "    clf.fit(X_tr[boot_idx], y_tr[boot_idx])\n",
    "    return clf\n",
    "\n",
    "for fold, (tr_idx, va_idx) in enumerate(skf.split(X_pruned, y), 1):\n",
    "    X_tr, y_tr = X_pruned[tr_idx], y[tr_idx]\n",
    "    X_va, y_va = X_pruned[va_idx], y[va_idx]\n",
    "\n",
    "    proba_sum = np.zeros(len(va_idx), dtype=float)\n",
    "    for m in range(N_MODELS):\n",
    "        seed = RANDOM_STATE + 1000*fold + m\n",
    "        clf = fit_one_rf(seed, X_tr, y_tr)\n",
    "        proba_sum += clf.predict_proba(X_va)[:,1]\n",
    "    oof_proba[va_idx] = proba_sum / N_MODELS\n",
    "    print(f\"[Fold {fold}] done.\")\n",
    "\n",
    "# 임계값 스윕\n",
    "ts = np.linspace(0.05, 0.95, 181)\n",
    "f1s = np.array([f1_score(y, (oof_proba >= t).astype(int)) for t in ts])\n",
    "best_idx = int(np.argmax(f1s))\n",
    "best_t = float(ts[best_idx])\n",
    "best_f1 = float(f1s[best_idx])\n",
    "print(f\"★ Best Threshold t* = {best_t:.3f} | OOF F1 (Pruned+Bagging) = {best_f1:.4f}\")\n",
    "\n",
    "plt.figure(figsize=(7,4.5))\n",
    "plt.plot(ts, f1s); plt.axvline(best_t, linestyle='--')\n",
    "plt.title(\"F1 vs Threshold (OOF, Pruned + Bagging RF)\")\n",
    "plt.xlabel(\"Threshold\"); plt.ylabel(\"F1\"); plt.tight_layout(); plt.show()\n"
   ]
  },
  {
   "cell_type": "markdown",
   "id": "ff55a2b0",
   "metadata": {},
   "source": [
    "## 5) 전체 데이터로 최종 배깅 모델 재학습 & 저장 (프루닝 유지)"
   ]
  },
  {
   "cell_type": "code",
   "execution_count": 6,
   "id": "e96cdfff",
   "metadata": {},
   "outputs": [
    {
     "name": "stdout",
     "output_type": "stream",
     "text": [
      "✅ 저장 완료: rf_bagging_pruned_bundle.joblib\n",
      "\n",
      "[Training Data Evaluation]\n",
      "              precision    recall  f1-score   support\n",
      "\n",
      "           0     0.9832    0.9546    0.9687      3807\n",
      "           1     0.9628    0.9863    0.9744      4542\n",
      "\n",
      "    accuracy                         0.9719      8349\n",
      "   macro avg     0.9730    0.9705    0.9716      8349\n",
      "weighted avg     0.9721    0.9719    0.9718      8349\n",
      "\n",
      "Confusion Matrix:\n",
      "[[3634  173]\n",
      " [  62 4480]]\n"
     ]
    }
   ],
   "source": [
    "\n",
    "final_models = []\n",
    "for m in range(N_MODELS):\n",
    "    seed = RANDOM_STATE + 777*m\n",
    "    clf = fit_one_rf(seed, X_pruned, y)\n",
    "    final_models.append(clf)\n",
    "\n",
    "bundle = {\n",
    "    \"models\": final_models,\n",
    "    \"feature_idx\": keep_idx,           # 선택된 피처 인덱스\n",
    "    \"selected_features\": selected_features,\n",
    "    \"best_t\": best_t,\n",
    "    \"params\": base_params,\n",
    "    \"n_models\": N_MODELS,\n",
    "    \"prune_ratio\": PRUNE_RATIO\n",
    "}\n",
    "joblib.dump(bundle, \"rf_bagging_pruned_bundle.joblib\")\n",
    "print(\"✅ 저장 완료: rf_bagging_pruned_bundle.joblib\")\n",
    "\n",
    "# 참고: 학습 데이터 평가 (임계값 적용)\n",
    "proba_train = np.mean([m.predict_proba(X_pruned)[:,1] for m in final_models], axis=0)\n",
    "pred_train = (proba_train >= best_t).astype(int)\n",
    "print(\"\\n[Training Data Evaluation]\")\n",
    "print(classification_report(y, pred_train, digits=4))\n",
    "print(\"Confusion Matrix:\")\n",
    "print(confusion_matrix(y, pred_train))\n"
   ]
  },
  {
   "cell_type": "markdown",
   "id": "7064bb23",
   "metadata": {},
   "source": [
    "## 6) predict_input.csv → predict_output.csv (SMILES, output)"
   ]
  },
  {
   "cell_type": "code",
   "execution_count": null,
   "id": "0c5715cd",
   "metadata": {},
   "outputs": [],
   "source": [
    "\n",
    "pred_path = next((p for p in PRED_CANDIDATES if Path(p).exists()), None)\n",
    "assert pred_path, \"predict_input.csv 파일이 필요합니다.\"\n",
    "pred_df = pd.read_csv(pred_path)\n",
    "print(f\"[predict_input] {pred_path}  shape={pred_df.shape}\")\n",
    "\n",
    "# 동일 전처리 + 같은 피처 선택 적용\n",
    "X_base_pred = pred_df[base_feats].replace([np.inf,-np.inf], np.nan).fillna(0) if base_feats else None\n",
    "X_fp_pred   = pred_df[fp_cols].replace([np.inf,-np.inf], np.nan).fillna(0) if fp_cols else None\n",
    "\n",
    "if X_base_pred is not None and X_fp_pred is not None:\n",
    "    X_pred_full = np.hstack([X_base_pred.values, X_fp_pred.values])\n",
    "elif X_fp_pred is not None:\n",
    "    X_pred_full = X_fp_pred.values\n",
    "elif X_base_pred is not None:\n",
    "    X_pred_full = X_base_pred.values\n",
    "else:\n",
    "    raise ValueError(\"예측에 사용할 피처가 없습니다.\")\n",
    "\n",
    "# 프루닝에서 선택된 피처만 사용\n",
    "X_pred = X_pred_full[:, keep_idx]\n",
    "\n",
    "# 앙상블 확률 평균 → 임계값 적용\n",
    "proba_pred = np.mean([m.predict_proba(X_pred)[:,1] for m in final_models], axis=0)\n",
    "pred_label = (proba_pred >= best_t).astype(int)\n",
    "\n",
    "out_df = pd.DataFrame({\n",
    "    \"SMILES\": pred_df[\"SMILES\"],\n",
    "    \"output\": pred_label\n",
    "})\n",
    "out_df.to_csv(\"predict_output.csv\", index=False)\n",
    "print(\"✅ 예측 결과 저장 완료: predict_output.csv\")\n",
    "out_df.head()\n"
   ]
  }
 ],
 "metadata": {
  "kernelspec": {
   "display_name": "venv",
   "language": "python",
   "name": "python3"
  },
  "language_info": {
   "codemirror_mode": {
    "name": "ipython",
    "version": 3
   },
   "file_extension": ".py",
   "mimetype": "text/x-python",
   "name": "python",
   "nbconvert_exporter": "python",
   "pygments_lexer": "ipython3",
   "version": "3.11.9"
  }
 },
 "nbformat": 4,
 "nbformat_minor": 5
}
