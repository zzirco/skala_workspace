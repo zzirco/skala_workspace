{
 "cells": [
  {
   "cell_type": "code",
   "execution_count": 1,
   "metadata": {},
   "outputs": [
    {
     "data": {
      "text/plain": [
       "True"
      ]
     },
     "execution_count": 1,
     "metadata": {},
     "output_type": "execute_result"
    }
   ],
   "source": [
    "# API KEY Loading\n",
    "from dotenv import load_dotenv\n",
    "\n",
    "load_dotenv()"
   ]
  },
  {
   "cell_type": "markdown",
   "metadata": {},
   "source": [
    "# PDF Loaders \n",
    "\n",
    "[Reference] https://python.langchain.com/v0.1/docs/modules/data_connection/document_loaders/pdf/\n"
   ]
  },
  {
   "cell_type": "markdown",
   "metadata": {},
   "source": [
    "** 실습 자료 **\n",
    "\n",
    "소프트웨어정책연구소(SPRi), [AI Brief 스페셜] AI 에이전트 동향\n",
    "\n",
    "- 저자: 유재흥(AI정책연구실 책임연구원), 이해수(AI정책연구실 선임연구원)\n",
    "- 발생: 2024.12.10\n",
    "- 링크: https://spri.kr/posts/view/23798?code=AI-Brief&s_year=&data_page=1\n",
    "- 파일명: `SPRi AI Brief_Special_AI Agent_241209_F`\n",
    "\n",
    "(실습 준비)\n",
    "- `10-DocuementLoader` 폴더 하위에 `data` 폴더 생성 \n",
    "- 링크에서 다운로드 받은 파일을 `data` 폴더에 업로드 "
   ]
  },
  {
   "cell_type": "code",
   "execution_count": 2,
   "metadata": {},
   "outputs": [],
   "source": [
    "# 실습 파일 정의\n",
    "file_path = \"./data/SPRi AI Brief_Special_AI Agent_241209_F.pdf\""
   ]
  },
  {
   "cell_type": "code",
   "execution_count": 3,
   "metadata": {},
   "outputs": [],
   "source": [
    "def show_metadata(docs):\n",
    "    if docs:\n",
    "        print(\"[metadata]\")\n",
    "        print(list(docs[0].metadata.keys()))\n",
    "        print(\"\\n[examples]\")\n",
    "        max_key_length = max(len(k) for k in docs[0].metadata.keys())\n",
    "        for k, v in docs[0].metadata.items():\n",
    "            print(f\"{k:<{max_key_length}} : {v}\")"
   ]
  },
  {
   "cell_type": "markdown",
   "metadata": {},
   "source": [
    "# PyPDFLoader"
   ]
  },
  {
   "cell_type": "code",
   "execution_count": 5,
   "metadata": {},
   "outputs": [],
   "source": [
    "# (참고) 혹시 라이브러리 로딩이 안될 경우 재설치\n",
    "# !pip install -qU pypdf"
   ]
  },
  {
   "cell_type": "code",
   "execution_count": 4,
   "metadata": {},
   "outputs": [],
   "source": [
    "from langchain_community.document_loaders import PyPDFLoader"
   ]
  },
  {
   "cell_type": "code",
   "execution_count": 5,
   "metadata": {},
   "outputs": [],
   "source": [
    "# 로더 정의\n",
    "loader = PyPDFLoader(file_path)\n",
    "\n",
    "# 문서 로딩\n",
    "docs = loader.load()"
   ]
  },
  {
   "cell_type": "code",
   "execution_count": null,
   "metadata": {},
   "outputs": [
    {
     "name": "stdout",
     "output_type": "stream",
     "text": [
      "SPRi AI Brief Special |  2024-12 월호\n",
      "10 - Shortcuts 앱을 사용하면 좋아하는 앱에서 여러 단계로 개인용 단축키를 만들 수 있으며 , 갤러리에서 \n",
      "수백 개의 예제를 시작하거나 드래그 앤 드롭하여 직접 만들 수 있음\n",
      "∙ Apple 은 개인정보 보호를 위해 Siri의 음성 인식과 명령 처리를 디바이스 내에서 수행할 수 있도록 \n",
      "설계하여 사용자 데이터가 Apple 서버로 전송되지 않고, 로컬에서 안전하게 처리\n",
      " - Apple 은 Siri와 같은 AI 에이전트를 사용자 개인정보를 보호하는 방향으로 설계하\n"
     ]
    }
   ],
   "source": [
    "# print(docs[10])\n",
    "print(docs[10].page_content[:300])"
   ]
  },
  {
   "cell_type": "code",
   "execution_count": 7,
   "metadata": {},
   "outputs": [
    {
     "name": "stdout",
     "output_type": "stream",
     "text": [
      "[metadata]\n",
      "['source', 'page']\n",
      "\n",
      "[examples]\n",
      "source : ./data/SPRi AI Brief_Special_AI Agent_241209_F.pdf\n",
      "page   : 0\n"
     ]
    }
   ],
   "source": [
    "# 메타정보 확인\n",
    "show_metadata(docs)"
   ]
  },
  {
   "cell_type": "markdown",
   "metadata": {},
   "source": [
    "# PyPDFLoader (OCR)\n",
    "\n",
    "- PDF 문서 내 스캔된 그림 내에 텍스트 이미지가 포함되어 있는 경우 텍스트 추출 필요 \n",
    "- `rapidocr-onnxruntime` 패키지를 사용하여 이미지에서 텍스트를 추출\n",
    "\n",
    "그러나 ... \n",
    "- PDF 내 이미지/표가 추출되더라도, page_content에서는 그 내용을 이미지로 표현하지 못함 -> 텍스트 정보만 반환 \n",
    "- pdfplumber, PyMuPDF(fitz) 등 이미지를 직접 추출할 수 있는 라이브러리 적용 "
   ]
  },
  {
   "cell_type": "code",
   "execution_count": 10,
   "metadata": {},
   "outputs": [],
   "source": [
    "# 설치\n",
    "# !pip install -qU rapidocr-onnxruntime"
   ]
  },
  {
   "cell_type": "code",
   "execution_count": 9,
   "metadata": {},
   "outputs": [],
   "source": [
    "# 로더 정의, 이미지 추출 옵션 활성화\n",
    "loader = PyPDFLoader(\"https://arxiv.org/pdf/2103.15348.pdf\", extract_images=True)\n",
    "\n",
    "# 문서 로딩\n",
    "docs = loader.load()"
   ]
  },
  {
   "cell_type": "code",
   "execution_count": 10,
   "metadata": {},
   "outputs": [
    {
     "name": "stdout",
     "output_type": "stream",
     "text": [
      "LayoutParser : A Uniﬁed Toolkit for DL-Based DIA 5\n",
      "Table 1: Current layout detection models in the LayoutParser model zoo\n",
      "Dataset Base Model1Large Model Notes\n",
      "PubLayNet [38] F / M M Layouts of modern scientiﬁc documents\n",
      "PRImA [3] M - Layouts of scanned modern magazines and scientiﬁc reports\n",
      "Newspape\n"
     ]
    }
   ],
   "source": [
    "print(docs[4].page_content[:300])"
   ]
  },
  {
   "cell_type": "code",
   "execution_count": 11,
   "metadata": {},
   "outputs": [
    {
     "name": "stdout",
     "output_type": "stream",
     "text": [
      "4 Z. Shen et al.\n",
      "Efficient Data AnnotationC u s t o m i z e d  M o d e l  T r a i n i n gModel Cust omizationDI A Model HubDI A Pipeline SharingCommunity PlatformLa y out Detection ModelsDocument Images \n",
      "T h e  C o r e  L a y o u t P a r s e r  L i b r a r yOCR ModuleSt or age & VisualizationLa y ou\n"
     ]
    }
   ],
   "source": [
    "print(docs[3].page_content[:300])"
   ]
  },
  {
   "cell_type": "code",
   "execution_count": 12,
   "metadata": {},
   "outputs": [
    {
     "name": "stdout",
     "output_type": "stream",
     "text": [
      "[metadata]\n",
      "['source', 'page']\n",
      "\n",
      "[examples]\n",
      "source : https://arxiv.org/pdf/2103.15348.pdf\n",
      "page   : 0\n"
     ]
    }
   ],
   "source": [
    "# 메타정보 확인\n",
    "show_metadata(docs)"
   ]
  },
  {
   "cell_type": "markdown",
   "metadata": {},
   "source": [
    "# PyMuPDFLoader\n",
    "\n",
    "- PDF 로더들 중에서 많은 메타데이터 정보 제공 "
   ]
  },
  {
   "cell_type": "code",
   "execution_count": 15,
   "metadata": {},
   "outputs": [],
   "source": [
    "# 설치\n",
    "# !pip install -qU pymupdf"
   ]
  },
  {
   "cell_type": "code",
   "execution_count": 13,
   "metadata": {},
   "outputs": [],
   "source": [
    "from langchain_community.document_loaders import PyMuPDFLoader"
   ]
  },
  {
   "cell_type": "code",
   "execution_count": 14,
   "metadata": {},
   "outputs": [],
   "source": [
    "# 로더 정의\n",
    "loader = PyMuPDFLoader(file_path)\n",
    "\n",
    "# 문서 로딩\n",
    "docs = loader.load()"
   ]
  },
  {
   "cell_type": "code",
   "execution_count": 15,
   "metadata": {},
   "outputs": [
    {
     "name": "stdout",
     "output_type": "stream",
     "text": [
      "SPRi AI Brief Special |  2024-12월호\n",
      "10\n",
      " - Shortcuts 앱을 사용하면 좋아하는 앱에서 여러 단계로 개인용 단축키를 만들 수 있으며, 갤러리에서 \n",
      "수백 개의 예제를 시작하거나 드래그 앤 드롭하여 직접 만들 수 있음\n",
      "∙ Apple은 개인정보 보호를 위해 Siri의 음성 인식과 명령 처리를 디바이스 내에서 수행할 수 있도록 \n",
      "설계하여 사용자 데이터가 Apple 서버로 전송되지 않고, 로컬에서 안전하게 처리\n",
      " - Apple은 Siri와 같은 AI 에이전트를 사용자 개인정보를 보호하는 방향으로 설계하여, \n"
     ]
    }
   ],
   "source": [
    "print(docs[10].page_content[:300])"
   ]
  },
  {
   "cell_type": "code",
   "execution_count": 16,
   "metadata": {},
   "outputs": [
    {
     "name": "stdout",
     "output_type": "stream",
     "text": [
      "[metadata]\n",
      "['source', 'file_path', 'page', 'total_pages', 'format', 'title', 'author', 'subject', 'keywords', 'creator', 'producer', 'creationDate', 'modDate', 'trapped']\n",
      "\n",
      "[examples]\n",
      "source       : ./data/SPRi AI Brief_Special_AI Agent_241209_F.pdf\n",
      "file_path    : ./data/SPRi AI Brief_Special_AI Agent_241209_F.pdf\n",
      "page         : 0\n",
      "total_pages  : 27\n",
      "format       : PDF 1.4\n",
      "title        : \n",
      "author       : dj\n",
      "subject      : \n",
      "keywords     : \n",
      "creator      : Hwp 2018 10.0.0.13947\n",
      "producer     : Hancom PDF 1.3.0.547\n",
      "creationDate : D:20241209094315+09'00'\n",
      "modDate      : D:20241209094315+09'00'\n",
      "trapped      : \n"
     ]
    }
   ],
   "source": [
    "# 메타정보 확인\n",
    "show_metadata(docs)"
   ]
  },
  {
   "cell_type": "markdown",
   "metadata": {},
   "source": [
    "# PyMuPDFLoader + fitz"
   ]
  },
  {
   "cell_type": "code",
   "execution_count": 17,
   "metadata": {},
   "outputs": [],
   "source": [
    "import fitz\n",
    "import os"
   ]
  },
  {
   "cell_type": "code",
   "execution_count": 18,
   "metadata": {},
   "outputs": [
    {
     "name": "stdout",
     "output_type": "stream",
     "text": [
      "[텍스트 미리보기]  출력을 생성하지 않고, 동적 출력을 생성할 수 있다고 설명\n",
      "∙AI 에이전시 스펙트럼을 제시하면서 한쪽 끝에는 특정 작업을 제한적으로 수행하는 전통적인 시스템이 있고, 반대편에는 \n",
      "환경에서 학습하고 독립적으로 결정 및 작업을 수행할 수 있는 완전한 에이전틱 AI 시스템이 있다고 설명 \n",
      "<AI 에이전시(AI Agency) 갭>\n",
      "※ 출처: Gartner, Intelligent Agents in AI Really Can Work Alone. Here’s How, 2024.10.1\n",
      "£ ISO/IEC는 AI 관련 표준에서 에이전트(Agent\n"
     ]
    }
   ],
   "source": [
    "loader = PyMuPDFLoader(file_path)\n",
    "docs = loader.load()\n",
    "\n",
    "print(\"[텍스트 미리보기]\", docs[2].page_content[200:500])  "
   ]
  },
  {
   "cell_type": "code",
   "execution_count": 19,
   "metadata": {},
   "outputs": [],
   "source": [
    "output_dir = \"./output\"\n",
    "os.makedirs(output_dir, exist_ok=True)"
   ]
  },
  {
   "cell_type": "code",
   "execution_count": 20,
   "metadata": {},
   "outputs": [
    {
     "name": "stdout",
     "output_type": "stream",
     "text": [
      "📄 Page 1: 이미지 1개\n",
      "📄 Page 2: 이미지 0개\n",
      "📄 Page 3: 이미지 1개\n",
      "📄 Page 4: 이미지 0개\n",
      "📄 Page 5: 이미지 1개\n",
      "📄 Page 6: 이미지 1개\n",
      "📄 Page 7: 이미지 0개\n",
      "📄 Page 8: 이미지 3개\n",
      "📄 Page 9: 이미지 1개\n",
      "📄 Page 10: 이미지 1개\n",
      "📄 Page 11: 이미지 0개\n",
      "📄 Page 12: 이미지 3개\n",
      "📄 Page 13: 이미지 0개\n",
      "📄 Page 14: 이미지 1개\n",
      "📄 Page 15: 이미지 0개\n",
      "📄 Page 16: 이미지 0개\n",
      "📄 Page 17: 이미지 1개\n",
      "📄 Page 18: 이미지 1개\n",
      "📄 Page 19: 이미지 0개\n",
      "📄 Page 20: 이미지 0개\n",
      "📄 Page 21: 이미지 1개\n",
      "📄 Page 22: 이미지 0개\n",
      "📄 Page 23: 이미지 0개\n",
      "📄 Page 24: 이미지 0개\n",
      "📄 Page 25: 이미지 0개\n",
      "📄 Page 26: 이미지 0개\n",
      "📄 Page 27: 이미지 1개\n",
      "✅ 이미지 추출 완료!\n"
     ]
    }
   ],
   "source": [
    "doc = fitz.open(file_path)\n",
    "\n",
    "for page_num in range(len(doc)):\n",
    "    page = doc[page_num]\n",
    "    images = page.get_images(full=True)\n",
    "    print(f\"📄 Page {page_num+1}: 이미지 {len(images)}개\")\n",
    "\n",
    "    for i, img in enumerate(images):\n",
    "        xref = img[0]\n",
    "        pix = fitz.Pixmap(doc, xref)\n",
    "        # RGB or grayscale\n",
    "        if pix.n < 5:\n",
    "            pix.save(os.path.join(output_dir, f\"page{page_num+1}_img{i+1}.png\"))\n",
    "        else:\n",
    "            pix = fitz.Pixmap(fitz.csRGB, pix)\n",
    "            pix.save(os.path.join(output_dir, f\"page{page_num+1}_img{i+1}.png\"))\n",
    "\n",
    "print(\"✅ 이미지 추출 완료!\")"
   ]
  },
  {
   "cell_type": "markdown",
   "metadata": {},
   "source": [
    "추출한 이미지 내에서 정보를 텍스트로 뽑아내기 위해서 ... !! "
   ]
  },
  {
   "cell_type": "code",
   "execution_count": null,
   "metadata": {},
   "outputs": [],
   "source": [
    "# terminal에서 brew 통해 설치 가능 \n",
    "# brew install tesseract"
   ]
  },
  {
   "cell_type": "code",
   "execution_count": 21,
   "metadata": {},
   "outputs": [],
   "source": [
    "from PIL import Image\n",
    "import pytesseract"
   ]
  },
  {
   "cell_type": "code",
   "execution_count": 22,
   "metadata": {},
   "outputs": [
    {
     "name": "stdout",
     "output_type": "stream",
     "text": [
      "\n",
      "📷 [OCR - page6_img1.png]\n",
      "Azure\n",
      "DevOps\n",
      "\n",
      "GitHub\n",
      "\n",
      "Power\n",
      "Platform\n",
      "\n",
      "Azure\n",
      "services\n",
      "\n",
      "Azure / Office\n",
      "Data Services\n",
      "\n",
      "Power Automate Power Virtual Agents\n",
      "\n",
      "Power BI\n",
      "\n",
      "tas\n",
      "\n",
      "Analysis\n",
      "Services\n",
      "\n",
      "Power Apps\n",
      "\n",
      "S\n",
      "\n",
      "API\n",
      "Management\n",
      "\n",
      "Microsoft\n",
      "Graph\n",
      "\n",
      "oS\n",
      "\n",
      "Azure\n",
      "Functions\n",
      "\n",
      "SQL Azure\n",
      "\n",
      "AKS\n",
      "\n",
      "{c}\n",
      "\n",
      "Logic\n",
      "Apps\n",
      "\n",
      "=\n",
      "\n",
      "SQL Data\n",
      "Warehouse\n",
      "\n",
      "@® ©\n",
      "\n",
      "Cognitive\n",
      "ee sas\n",
      "\n",
      "6\n",
      "\n",
      "Cosmos DB\n",
      "\n",
      "Every\n",
      "Developer\n",
      "(Low-Code)\n",
      "\n",
      "Pro\n",
      "Developer\n",
      "(Code-First)\n",
      "\n",
      "oo\n",
      "\n",
      "Visual VS\n",
      "Studio Code\n",
      "\n",
      "\n",
      "📷 [OCR - page17_img1.png]\n",
      "Customer 360\n",
      "\n",
      "Service\n",
      "\n",
      "» Analytics\n",
      "Experience ‘Agents\n",
      "\n",
      "Tableau\n",
      "\n",
      "Banking ‘&POS\n",
      "‘Agents\n",
      "\n",
      "Finance\n",
      "‘Agents\n",
      "\n",
      "Revenue\n",
      "& Orders\n",
      "\n",
      "Let\n",
      "\n",
      "Industries _\n",
      "\n",
      "Partner &\n",
      "\n",
      "Custom apps & Einstein Al Flow Omnichannel Securit\n",
      "‘Moss ——Autornation © SQlesforce Platform Sxr\"iitersce —e Prhvady Analytics\n",
      "\n",
      "agents\n",
      "\n",
      "‘MuleSoft Integration\n",
      "\n",
      "\n",
      "📷 [OCR - page10_img1.png]\n",
      "\n",
      "\n",
      "📷 [OCR - page1_img1.png]\n",
      "panturen\n",
      "\n",
      "?,\n",
      "ey\n",
      "Lr)\n",
      "\n",
      "SPr\n",
      "\n",
      "O| SIAL SBE\n",
      "\n",
      "ATE O/yAHOI TA\n",
      "Software Policy & Research Institute\n",
      "\n",
      "\n",
      "📷 [OCR - page14_img1.png]\n",
      "\n",
      "\n",
      "📷 [OCR - page21_img1.png]\n",
      "2\n",
      "\n",
      "“SN\n",
      "( a\n",
      "\n",
      "Different User Groups\n",
      "\n",
      "Other People\n",
      "\n",
      "Form\n",
      "Contribute\n",
      "\n",
      "Social Deployment\n",
      "\n",
      "° db hb 6382\n",
      "( & } cs } User Interactions ‘= & fal a 2 F\n",
      "\n",
      "Data\n",
      "Chatbot Design\n",
      "\n",
      "Development Team\n",
      "\n",
      "* Representation Harm\n",
      "+ Allocation Harm\n",
      "\n",
      "\n",
      "\n",
      "📷 [OCR - page5_img1.png]\n",
      "47.1\n",
      "\n",
      "3.5 Bal\n",
      "— |\n",
      "2023 2024 2030\n",
      "\n",
      "mNorthAmerica = mEurope ~—w Asia Pacific = Middle Eastand Africa m Latin America\n",
      "\n",
      "\n",
      "📷 [OCR - page3_img1.png]\n",
      "@Humanagency @Deterministicchatbots @ LLM-based assistants\n",
      "\n",
      "Low agency | High agency\n",
      "a «—— Alagency gap ———>\n",
      "\n",
      "Static Adaptive\n",
      "\n",
      "Reactive Proactive planning\n",
      "Simple tasks Complex goals\n",
      "Simple Complex\n",
      "environment environment\n",
      "Supervised » Autonomous\n",
      "\n",
      "a\n",
      "¥\n",
      "\n",
      "a\n",
      "\n",
      "v\n",
      "\n",
      "a\n",
      "\n",
      "¥\n",
      "\n",
      "a\n",
      "\n",
      "¥\n",
      "\n",
      "a\n",
      "\n",
      "\n",
      "\n",
      "📷 [OCR - page8_img2.png]\n",
      "\n",
      "\n",
      "📷 [OCR - page8_img3.png]\n",
      "\n",
      "\n",
      "📷 [OCR - page8_img1.png]\n",
      "\n",
      "\n",
      "📷 [OCR - page9_img1.png]\n",
      "$ a\n",
      "\n",
      "Conversational Al\n",
      "\n",
      "® ® ©\n",
      "\n",
      "CCaaS ®) @®\n",
      "\n",
      "Voice, email, SMS Visual Al driven Agent API integrations Mobile &\n",
      "& chat IVR routing interface & connectors web SDK’s\n",
      "\n",
      "Conversational\n",
      "Speech to text / Gen Al Natural language Tareas oie Biomaeie.\n",
      "\n",
      "Core Text to speech understanding\n",
      "\n",
      "a\n",
      "\n",
      "Conversational Agents Agent Assist Conversational Insights\n",
      "\n",
      "© i\n",
      "\n",
      "Custom voice\n",
      "\n",
      "\n",
      "📷 [OCR - page12_img1.png]\n",
      "Meta Al\n",
      "with Lama 3\n",
      "\n",
      "€\n",
      "\n",
      "What is a fun fact to know?\n",
      "\n",
      "Here's a fun fact about space! The\n",
      "International Space Station (ISS) has been\n",
      "continuously occupied by rotating\n",
      "\n",
      "asdfgh jk\n",
      "\n",
      "Qzxevboram @\n",
      "\n",
      "2123) / ® a )\n",
      "\n",
      "\n",
      "\n",
      "📷 [OCR - page12_img3.png]\n",
      "\n",
      "\n",
      "📷 [OCR - page27_img1.png]\n",
      "S GPR rete4s2\n",
      "S Bh Scttware Policy & Research Institute\n",
      "\n",
      "ZI MAI SED HME 7124121 22 SEY RED OPS(A) 4\n",
      "22, Daewangpangyo-ro 712beon-gil, Bundang-gu, Seongnam-si, Gyeonggi-do, Republic of Korea, 13488\n",
      "\n",
      "\n",
      "📷 [OCR - page18_img1.png]\n",
      "Hi 'm your Agentiore Personal\n",
      "Please let me know what | can of\n",
      "\n",
      "What should! woor fo @ concert\n",
      "ln Son Francisco tis weekend?\n",
      "\n",
      "The weather looks rainy. | would\n",
      "the Baylog Rein Poncho and tne\n",
      "\n",
      "‘Con you addi fo he cot?\n",
      "\n",
      "it Agentforce can do things ke search for\n",
      "Information, summarize records, ond draft ond\n",
      "revise emals. What do you want to do focay?\n",
      "\n",
      "gentforce Service Agent\n",
      "\n",
      "r\n",
      "\n",
      "EJ iim your Service Agent\n",
      "Whore it my order? emails\n",
      "doeeexample.com\n",
      "\n",
      "‘Your order has been shipped and is\n",
      "\"expected to anve on August 30, 2024.\n",
      "‘ete ae tho dots:\n",
      "\n",
      "—\n",
      "end alr\n",
      "ote Dal 2 ad\n",
      "\n",
      "‘Would you like any further ees\n",
      "ERB Pov ony otter auestonsr omnes\n",
      "\n",
      "\n",
      "📷 [OCR - page12_img2.png]\n",
      "1m loving the progress 'm making on my guitar-\n",
      "playing journey. Every chord, every note, and every\n",
      "practice session is a win ¢\n",
      "\n",
      "| OpAsk Mea A) Popular guitar songs to play?\n",
      "\n",
      "& Reena Kumasi a\n",
      "iS\n",
      "\n",
      "Captured some amazing snapshots from my\n",
      "photography session today, | cant wait for you all to\n",
      "\n",
      "A © ese @ =\n",
      "\n",
      "\n"
     ]
    }
   ],
   "source": [
    "# 이미지가 저장된 디렉토리\n",
    "image_dir = output_dir\n",
    "\n",
    "# 디렉토리 내 모든 이미지 파일 반복 처리\n",
    "for filename in os.listdir(image_dir):\n",
    "    if filename.endswith(\".png\"):\n",
    "        image_path = os.path.join(image_dir, filename)\n",
    "        img = Image.open(image_path)\n",
    "\n",
    "        # OCR로 텍스트 추출\n",
    "        extracted_text = pytesseract.image_to_string(img, lang='eng+kor')\n",
    "\n",
    "        print(f\"\\n📷 [OCR - {filename}]\")\n",
    "        print(extracted_text)"
   ]
  },
  {
   "cell_type": "markdown",
   "metadata": {},
   "source": [
    "# UnstructuredPDFLoader \n",
    "\n",
    "Markdown 또는 PDF 같은 비구조화된 또는 반구조화된 파일 형식 지원 "
   ]
  },
  {
   "cell_type": "code",
   "execution_count": 19,
   "metadata": {},
   "outputs": [],
   "source": [
    "# 설치\n",
    "# !pip install -qU unstructured"
   ]
  },
  {
   "cell_type": "code",
   "execution_count": 23,
   "metadata": {},
   "outputs": [
    {
     "name": "stderr",
     "output_type": "stream",
     "text": [
      "[nltk_data] Downloading package punkt_tab to\n",
      "[nltk_data]     /Users/a05131/nltk_data...\n",
      "[nltk_data]   Package punkt_tab is already up-to-date!\n",
      "[nltk_data] Downloading package averaged_perceptron_tagger_eng to\n",
      "[nltk_data]     /Users/a05131/nltk_data...\n",
      "[nltk_data]   Package averaged_perceptron_tagger_eng is already up-to-\n",
      "[nltk_data]       date!\n"
     ]
    },
    {
     "data": {
      "text/plain": [
       "True"
      ]
     },
     "execution_count": 23,
     "metadata": {},
     "output_type": "execute_result"
    }
   ],
   "source": [
    "import nltk\n",
    "\n",
    "nltk.download(\"punkt_tab\")\n",
    "nltk.download(\"averaged_perceptron_tagger_eng\")"
   ]
  },
  {
   "cell_type": "code",
   "execution_count": 24,
   "metadata": {},
   "outputs": [],
   "source": [
    "from langchain_community.document_loaders import UnstructuredPDFLoader"
   ]
  },
  {
   "cell_type": "code",
   "execution_count": 25,
   "metadata": {},
   "outputs": [],
   "source": [
    "# 로더 정의\n",
    "loader = UnstructuredPDFLoader(file_path)\n",
    "\n",
    "# 문서 로딩\n",
    "docs = loader.load()"
   ]
  },
  {
   "cell_type": "code",
   "execution_count": 26,
   "metadata": {},
   "outputs": [
    {
     "name": "stdout",
     "output_type": "stream",
     "text": [
      "[AI브리프 스페셜] AI 에이전트 동향\n",
      "\n",
      "2024년 12월호\n",
      "\n",
      "SPRi AI Brief Special | 2024-12월호\n",
      "\n",
      "AI 에이전트 동향 – 빅테크 기업의 AI 에이전트 사례를 중심으로\n",
      "\n",
      "최근 생성형 AI의 확산과 함께 인간과 상호작용이 가능한 AI 에이전트에 대한 관심이 급증하고 있으며, 향후 몇 년 안에 관련 시장이 급속히 성장할 것으로 예상된다. 빅테크 기업들이 AI 에이전트 시장에 잇따라 진출하며 다양한 수익 모델을 창출하고 있는 상황이다. 그러나 AI 에이전트는 기술적, 사회적, 윤리적, 법적 문제를 초래할 가능성\n"
     ]
    }
   ],
   "source": [
    "print(docs[0].page_content[:300])"
   ]
  },
  {
   "cell_type": "code",
   "execution_count": 27,
   "metadata": {},
   "outputs": [
    {
     "name": "stdout",
     "output_type": "stream",
     "text": [
      "[metadata]\n",
      "['source']\n",
      "\n",
      "[examples]\n",
      "source : ./data/SPRi AI Brief_Special_AI Agent_241209_F.pdf\n"
     ]
    }
   ],
   "source": [
    "show_metadata(docs)"
   ]
  },
  {
   "cell_type": "code",
   "execution_count": 28,
   "metadata": {},
   "outputs": [],
   "source": [
    "# element 모드 추가 설정\n",
    "loader = UnstructuredPDFLoader(file_path, mode=\"elements\")\n",
    "docs = loader.load()"
   ]
  },
  {
   "cell_type": "code",
   "execution_count": 29,
   "metadata": {},
   "outputs": [
    {
     "name": "stdout",
     "output_type": "stream",
     "text": [
      "[AI브리프 스페셜] AI 에이전트 동향\n"
     ]
    }
   ],
   "source": [
    "print(docs[0].page_content[:300])"
   ]
  },
  {
   "cell_type": "code",
   "execution_count": 35,
   "metadata": {},
   "outputs": [
    {
     "name": "stdout",
     "output_type": "stream",
     "text": [
      "[metadata]\n",
      "['source', 'coordinates', 'filename', 'file_directory', 'last_modified', 'filetype', 'page_number', 'links', 'category', 'element_id']\n",
      "\n",
      "[examples]\n",
      "source         : ./data/SPRi AI Brief_Special_AI Agent_241209_F.pdf\n",
      "coordinates    : {'points': ((137.04, 250.99200000000008), (137.04, 275.952), (475.2452150348429, 275.952), (475.2452150348429, 250.99200000000008)), 'system': 'PixelSpace', 'layout_width': 612, 'layout_height': 858}\n",
      "filename       : SPRi AI Brief_Special_AI Agent_241209_F.pdf\n",
      "file_directory : ./data\n",
      "last_modified  : 2025-01-22T16:57:03\n",
      "filetype       : application/pdf\n",
      "page_number    : 1\n",
      "links          : []\n",
      "category       : Title\n",
      "element_id     : 39fb81d3f009c5a78288be18f0351362\n"
     ]
    }
   ],
   "source": [
    "show_metadata(docs)"
   ]
  },
  {
   "cell_type": "markdown",
   "metadata": {},
   "source": [
    "-----\n",
    "** End of Documents **"
   ]
  }
 ],
 "metadata": {
  "kernelspec": {
   "display_name": "langchain-kr-t0JhnSEV-py3.11",
   "language": "python",
   "name": "python3"
  },
  "language_info": {
   "codemirror_mode": {
    "name": "ipython",
    "version": 3
   },
   "file_extension": ".py",
   "mimetype": "text/x-python",
   "name": "python",
   "nbconvert_exporter": "python",
   "pygments_lexer": "ipython3",
   "version": "3.11.9"
  }
 },
 "nbformat": 4,
 "nbformat_minor": 2
}
